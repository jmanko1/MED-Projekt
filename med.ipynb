{
  "nbformat": 4,
  "nbformat_minor": 0,
  "metadata": {
    "colab": {
      "provenance": []
    },
    "kernelspec": {
      "name": "python3",
      "display_name": "Python 3"
    },
    "language_info": {
      "name": "python"
    }
  },
  "cells": [
    {
      "cell_type": "code",
      "execution_count": 2,
      "metadata": {
        "id": "S03mbArlGBZ3"
      },
      "outputs": [],
      "source": [
        "#Import bibliotek\n",
        "import pandas as pd\n",
        "import seaborn as sns\n",
        "import matplotlib.pyplot as plt"
      ]
    },
    {
      "cell_type": "code",
      "source": [
        "#Wczytanie zbioru\n",
        "df = pd.read_csv(\"dataset.csv\")\n",
        "df.head()"
      ],
      "metadata": {
        "colab": {
          "base_uri": "https://localhost:8080/",
          "height": 412
        },
        "id": "emPmcsfORUNN",
        "outputId": "e1292d09-f874-4fd0-bac2-8cd27ba8dae6"
      },
      "execution_count": 155,
      "outputs": [
        {
          "output_type": "execute_result",
          "data": {
            "text/plain": [
              "   Unnamed: 0                track_id                 artists  \\\n",
              "0           0  5SuOikwiRyPMVoIQDJUgSV             Gen Hoshino   \n",
              "1           1  4qPNDBW1i3p13qLCt0Ki3A            Ben Woodward   \n",
              "2           2  1iJBSr7s7jYXzM8EGcbK5b  Ingrid Michaelson;ZAYN   \n",
              "3           3  6lfxq3CG4xtTiEg7opyCyx            Kina Grannis   \n",
              "4           4  5vjLSffimiIP26QG5WcN2K        Chord Overstreet   \n",
              "\n",
              "                                          album_name  \\\n",
              "0                                             Comedy   \n",
              "1                                   Ghost (Acoustic)   \n",
              "2                                     To Begin Again   \n",
              "3  Crazy Rich Asians (Original Motion Picture Sou...   \n",
              "4                                            Hold On   \n",
              "\n",
              "                   track_name  popularity  duration_ms  explicit  \\\n",
              "0                      Comedy          73       230666     False   \n",
              "1            Ghost - Acoustic          55       149610     False   \n",
              "2              To Begin Again          57       210826     False   \n",
              "3  Can't Help Falling In Love          71       201933     False   \n",
              "4                     Hold On          82       198853     False   \n",
              "\n",
              "   danceability  energy  ...  loudness  mode  speechiness  acousticness  \\\n",
              "0         0.676  0.4610  ...    -6.746     0       0.1430        0.0322   \n",
              "1         0.420  0.1660  ...   -17.235     1       0.0763        0.9240   \n",
              "2         0.438  0.3590  ...    -9.734     1       0.0557        0.2100   \n",
              "3         0.266  0.0596  ...   -18.515     1       0.0363        0.9050   \n",
              "4         0.618  0.4430  ...    -9.681     1       0.0526        0.4690   \n",
              "\n",
              "   instrumentalness  liveness  valence    tempo  time_signature  track_genre  \n",
              "0          0.000001    0.3580    0.715   87.917               4     acoustic  \n",
              "1          0.000006    0.1010    0.267   77.489               4     acoustic  \n",
              "2          0.000000    0.1170    0.120   76.332               4     acoustic  \n",
              "3          0.000071    0.1320    0.143  181.740               3     acoustic  \n",
              "4          0.000000    0.0829    0.167  119.949               4     acoustic  \n",
              "\n",
              "[5 rows x 21 columns]"
            ],
            "text/html": [
              "\n",
              "  <div id=\"df-4bf97006-707a-4799-80f6-66e33d70f32d\" class=\"colab-df-container\">\n",
              "    <div>\n",
              "<style scoped>\n",
              "    .dataframe tbody tr th:only-of-type {\n",
              "        vertical-align: middle;\n",
              "    }\n",
              "\n",
              "    .dataframe tbody tr th {\n",
              "        vertical-align: top;\n",
              "    }\n",
              "\n",
              "    .dataframe thead th {\n",
              "        text-align: right;\n",
              "    }\n",
              "</style>\n",
              "<table border=\"1\" class=\"dataframe\">\n",
              "  <thead>\n",
              "    <tr style=\"text-align: right;\">\n",
              "      <th></th>\n",
              "      <th>Unnamed: 0</th>\n",
              "      <th>track_id</th>\n",
              "      <th>artists</th>\n",
              "      <th>album_name</th>\n",
              "      <th>track_name</th>\n",
              "      <th>popularity</th>\n",
              "      <th>duration_ms</th>\n",
              "      <th>explicit</th>\n",
              "      <th>danceability</th>\n",
              "      <th>energy</th>\n",
              "      <th>...</th>\n",
              "      <th>loudness</th>\n",
              "      <th>mode</th>\n",
              "      <th>speechiness</th>\n",
              "      <th>acousticness</th>\n",
              "      <th>instrumentalness</th>\n",
              "      <th>liveness</th>\n",
              "      <th>valence</th>\n",
              "      <th>tempo</th>\n",
              "      <th>time_signature</th>\n",
              "      <th>track_genre</th>\n",
              "    </tr>\n",
              "  </thead>\n",
              "  <tbody>\n",
              "    <tr>\n",
              "      <th>0</th>\n",
              "      <td>0</td>\n",
              "      <td>5SuOikwiRyPMVoIQDJUgSV</td>\n",
              "      <td>Gen Hoshino</td>\n",
              "      <td>Comedy</td>\n",
              "      <td>Comedy</td>\n",
              "      <td>73</td>\n",
              "      <td>230666</td>\n",
              "      <td>False</td>\n",
              "      <td>0.676</td>\n",
              "      <td>0.4610</td>\n",
              "      <td>...</td>\n",
              "      <td>-6.746</td>\n",
              "      <td>0</td>\n",
              "      <td>0.1430</td>\n",
              "      <td>0.0322</td>\n",
              "      <td>0.000001</td>\n",
              "      <td>0.3580</td>\n",
              "      <td>0.715</td>\n",
              "      <td>87.917</td>\n",
              "      <td>4</td>\n",
              "      <td>acoustic</td>\n",
              "    </tr>\n",
              "    <tr>\n",
              "      <th>1</th>\n",
              "      <td>1</td>\n",
              "      <td>4qPNDBW1i3p13qLCt0Ki3A</td>\n",
              "      <td>Ben Woodward</td>\n",
              "      <td>Ghost (Acoustic)</td>\n",
              "      <td>Ghost - Acoustic</td>\n",
              "      <td>55</td>\n",
              "      <td>149610</td>\n",
              "      <td>False</td>\n",
              "      <td>0.420</td>\n",
              "      <td>0.1660</td>\n",
              "      <td>...</td>\n",
              "      <td>-17.235</td>\n",
              "      <td>1</td>\n",
              "      <td>0.0763</td>\n",
              "      <td>0.9240</td>\n",
              "      <td>0.000006</td>\n",
              "      <td>0.1010</td>\n",
              "      <td>0.267</td>\n",
              "      <td>77.489</td>\n",
              "      <td>4</td>\n",
              "      <td>acoustic</td>\n",
              "    </tr>\n",
              "    <tr>\n",
              "      <th>2</th>\n",
              "      <td>2</td>\n",
              "      <td>1iJBSr7s7jYXzM8EGcbK5b</td>\n",
              "      <td>Ingrid Michaelson;ZAYN</td>\n",
              "      <td>To Begin Again</td>\n",
              "      <td>To Begin Again</td>\n",
              "      <td>57</td>\n",
              "      <td>210826</td>\n",
              "      <td>False</td>\n",
              "      <td>0.438</td>\n",
              "      <td>0.3590</td>\n",
              "      <td>...</td>\n",
              "      <td>-9.734</td>\n",
              "      <td>1</td>\n",
              "      <td>0.0557</td>\n",
              "      <td>0.2100</td>\n",
              "      <td>0.000000</td>\n",
              "      <td>0.1170</td>\n",
              "      <td>0.120</td>\n",
              "      <td>76.332</td>\n",
              "      <td>4</td>\n",
              "      <td>acoustic</td>\n",
              "    </tr>\n",
              "    <tr>\n",
              "      <th>3</th>\n",
              "      <td>3</td>\n",
              "      <td>6lfxq3CG4xtTiEg7opyCyx</td>\n",
              "      <td>Kina Grannis</td>\n",
              "      <td>Crazy Rich Asians (Original Motion Picture Sou...</td>\n",
              "      <td>Can't Help Falling In Love</td>\n",
              "      <td>71</td>\n",
              "      <td>201933</td>\n",
              "      <td>False</td>\n",
              "      <td>0.266</td>\n",
              "      <td>0.0596</td>\n",
              "      <td>...</td>\n",
              "      <td>-18.515</td>\n",
              "      <td>1</td>\n",
              "      <td>0.0363</td>\n",
              "      <td>0.9050</td>\n",
              "      <td>0.000071</td>\n",
              "      <td>0.1320</td>\n",
              "      <td>0.143</td>\n",
              "      <td>181.740</td>\n",
              "      <td>3</td>\n",
              "      <td>acoustic</td>\n",
              "    </tr>\n",
              "    <tr>\n",
              "      <th>4</th>\n",
              "      <td>4</td>\n",
              "      <td>5vjLSffimiIP26QG5WcN2K</td>\n",
              "      <td>Chord Overstreet</td>\n",
              "      <td>Hold On</td>\n",
              "      <td>Hold On</td>\n",
              "      <td>82</td>\n",
              "      <td>198853</td>\n",
              "      <td>False</td>\n",
              "      <td>0.618</td>\n",
              "      <td>0.4430</td>\n",
              "      <td>...</td>\n",
              "      <td>-9.681</td>\n",
              "      <td>1</td>\n",
              "      <td>0.0526</td>\n",
              "      <td>0.4690</td>\n",
              "      <td>0.000000</td>\n",
              "      <td>0.0829</td>\n",
              "      <td>0.167</td>\n",
              "      <td>119.949</td>\n",
              "      <td>4</td>\n",
              "      <td>acoustic</td>\n",
              "    </tr>\n",
              "  </tbody>\n",
              "</table>\n",
              "<p>5 rows × 21 columns</p>\n",
              "</div>\n",
              "    <div class=\"colab-df-buttons\">\n",
              "\n",
              "  <div class=\"colab-df-container\">\n",
              "    <button class=\"colab-df-convert\" onclick=\"convertToInteractive('df-4bf97006-707a-4799-80f6-66e33d70f32d')\"\n",
              "            title=\"Convert this dataframe to an interactive table.\"\n",
              "            style=\"display:none;\">\n",
              "\n",
              "  <svg xmlns=\"http://www.w3.org/2000/svg\" height=\"24px\" viewBox=\"0 -960 960 960\">\n",
              "    <path d=\"M120-120v-720h720v720H120Zm60-500h600v-160H180v160Zm220 220h160v-160H400v160Zm0 220h160v-160H400v160ZM180-400h160v-160H180v160Zm440 0h160v-160H620v160ZM180-180h160v-160H180v160Zm440 0h160v-160H620v160Z\"/>\n",
              "  </svg>\n",
              "    </button>\n",
              "\n",
              "  <style>\n",
              "    .colab-df-container {\n",
              "      display:flex;\n",
              "      gap: 12px;\n",
              "    }\n",
              "\n",
              "    .colab-df-convert {\n",
              "      background-color: #E8F0FE;\n",
              "      border: none;\n",
              "      border-radius: 50%;\n",
              "      cursor: pointer;\n",
              "      display: none;\n",
              "      fill: #1967D2;\n",
              "      height: 32px;\n",
              "      padding: 0 0 0 0;\n",
              "      width: 32px;\n",
              "    }\n",
              "\n",
              "    .colab-df-convert:hover {\n",
              "      background-color: #E2EBFA;\n",
              "      box-shadow: 0px 1px 2px rgba(60, 64, 67, 0.3), 0px 1px 3px 1px rgba(60, 64, 67, 0.15);\n",
              "      fill: #174EA6;\n",
              "    }\n",
              "\n",
              "    .colab-df-buttons div {\n",
              "      margin-bottom: 4px;\n",
              "    }\n",
              "\n",
              "    [theme=dark] .colab-df-convert {\n",
              "      background-color: #3B4455;\n",
              "      fill: #D2E3FC;\n",
              "    }\n",
              "\n",
              "    [theme=dark] .colab-df-convert:hover {\n",
              "      background-color: #434B5C;\n",
              "      box-shadow: 0px 1px 3px 1px rgba(0, 0, 0, 0.15);\n",
              "      filter: drop-shadow(0px 1px 2px rgba(0, 0, 0, 0.3));\n",
              "      fill: #FFFFFF;\n",
              "    }\n",
              "  </style>\n",
              "\n",
              "    <script>\n",
              "      const buttonEl =\n",
              "        document.querySelector('#df-4bf97006-707a-4799-80f6-66e33d70f32d button.colab-df-convert');\n",
              "      buttonEl.style.display =\n",
              "        google.colab.kernel.accessAllowed ? 'block' : 'none';\n",
              "\n",
              "      async function convertToInteractive(key) {\n",
              "        const element = document.querySelector('#df-4bf97006-707a-4799-80f6-66e33d70f32d');\n",
              "        const dataTable =\n",
              "          await google.colab.kernel.invokeFunction('convertToInteractive',\n",
              "                                                    [key], {});\n",
              "        if (!dataTable) return;\n",
              "\n",
              "        const docLinkHtml = 'Like what you see? Visit the ' +\n",
              "          '<a target=\"_blank\" href=https://colab.research.google.com/notebooks/data_table.ipynb>data table notebook</a>'\n",
              "          + ' to learn more about interactive tables.';\n",
              "        element.innerHTML = '';\n",
              "        dataTable['output_type'] = 'display_data';\n",
              "        await google.colab.output.renderOutput(dataTable, element);\n",
              "        const docLink = document.createElement('div');\n",
              "        docLink.innerHTML = docLinkHtml;\n",
              "        element.appendChild(docLink);\n",
              "      }\n",
              "    </script>\n",
              "  </div>\n",
              "\n",
              "\n",
              "<div id=\"df-44a696a9-b9d6-4250-8766-09f48bea8030\">\n",
              "  <button class=\"colab-df-quickchart\" onclick=\"quickchart('df-44a696a9-b9d6-4250-8766-09f48bea8030')\"\n",
              "            title=\"Suggest charts\"\n",
              "            style=\"display:none;\">\n",
              "\n",
              "<svg xmlns=\"http://www.w3.org/2000/svg\" height=\"24px\"viewBox=\"0 0 24 24\"\n",
              "     width=\"24px\">\n",
              "    <g>\n",
              "        <path d=\"M19 3H5c-1.1 0-2 .9-2 2v14c0 1.1.9 2 2 2h14c1.1 0 2-.9 2-2V5c0-1.1-.9-2-2-2zM9 17H7v-7h2v7zm4 0h-2V7h2v10zm4 0h-2v-4h2v4z\"/>\n",
              "    </g>\n",
              "</svg>\n",
              "  </button>\n",
              "\n",
              "<style>\n",
              "  .colab-df-quickchart {\n",
              "      --bg-color: #E8F0FE;\n",
              "      --fill-color: #1967D2;\n",
              "      --hover-bg-color: #E2EBFA;\n",
              "      --hover-fill-color: #174EA6;\n",
              "      --disabled-fill-color: #AAA;\n",
              "      --disabled-bg-color: #DDD;\n",
              "  }\n",
              "\n",
              "  [theme=dark] .colab-df-quickchart {\n",
              "      --bg-color: #3B4455;\n",
              "      --fill-color: #D2E3FC;\n",
              "      --hover-bg-color: #434B5C;\n",
              "      --hover-fill-color: #FFFFFF;\n",
              "      --disabled-bg-color: #3B4455;\n",
              "      --disabled-fill-color: #666;\n",
              "  }\n",
              "\n",
              "  .colab-df-quickchart {\n",
              "    background-color: var(--bg-color);\n",
              "    border: none;\n",
              "    border-radius: 50%;\n",
              "    cursor: pointer;\n",
              "    display: none;\n",
              "    fill: var(--fill-color);\n",
              "    height: 32px;\n",
              "    padding: 0;\n",
              "    width: 32px;\n",
              "  }\n",
              "\n",
              "  .colab-df-quickchart:hover {\n",
              "    background-color: var(--hover-bg-color);\n",
              "    box-shadow: 0 1px 2px rgba(60, 64, 67, 0.3), 0 1px 3px 1px rgba(60, 64, 67, 0.15);\n",
              "    fill: var(--button-hover-fill-color);\n",
              "  }\n",
              "\n",
              "  .colab-df-quickchart-complete:disabled,\n",
              "  .colab-df-quickchart-complete:disabled:hover {\n",
              "    background-color: var(--disabled-bg-color);\n",
              "    fill: var(--disabled-fill-color);\n",
              "    box-shadow: none;\n",
              "  }\n",
              "\n",
              "  .colab-df-spinner {\n",
              "    border: 2px solid var(--fill-color);\n",
              "    border-color: transparent;\n",
              "    border-bottom-color: var(--fill-color);\n",
              "    animation:\n",
              "      spin 1s steps(1) infinite;\n",
              "  }\n",
              "\n",
              "  @keyframes spin {\n",
              "    0% {\n",
              "      border-color: transparent;\n",
              "      border-bottom-color: var(--fill-color);\n",
              "      border-left-color: var(--fill-color);\n",
              "    }\n",
              "    20% {\n",
              "      border-color: transparent;\n",
              "      border-left-color: var(--fill-color);\n",
              "      border-top-color: var(--fill-color);\n",
              "    }\n",
              "    30% {\n",
              "      border-color: transparent;\n",
              "      border-left-color: var(--fill-color);\n",
              "      border-top-color: var(--fill-color);\n",
              "      border-right-color: var(--fill-color);\n",
              "    }\n",
              "    40% {\n",
              "      border-color: transparent;\n",
              "      border-right-color: var(--fill-color);\n",
              "      border-top-color: var(--fill-color);\n",
              "    }\n",
              "    60% {\n",
              "      border-color: transparent;\n",
              "      border-right-color: var(--fill-color);\n",
              "    }\n",
              "    80% {\n",
              "      border-color: transparent;\n",
              "      border-right-color: var(--fill-color);\n",
              "      border-bottom-color: var(--fill-color);\n",
              "    }\n",
              "    90% {\n",
              "      border-color: transparent;\n",
              "      border-bottom-color: var(--fill-color);\n",
              "    }\n",
              "  }\n",
              "</style>\n",
              "\n",
              "  <script>\n",
              "    async function quickchart(key) {\n",
              "      const quickchartButtonEl =\n",
              "        document.querySelector('#' + key + ' button');\n",
              "      quickchartButtonEl.disabled = true;  // To prevent multiple clicks.\n",
              "      quickchartButtonEl.classList.add('colab-df-spinner');\n",
              "      try {\n",
              "        const charts = await google.colab.kernel.invokeFunction(\n",
              "            'suggestCharts', [key], {});\n",
              "      } catch (error) {\n",
              "        console.error('Error during call to suggestCharts:', error);\n",
              "      }\n",
              "      quickchartButtonEl.classList.remove('colab-df-spinner');\n",
              "      quickchartButtonEl.classList.add('colab-df-quickchart-complete');\n",
              "    }\n",
              "    (() => {\n",
              "      let quickchartButtonEl =\n",
              "        document.querySelector('#df-44a696a9-b9d6-4250-8766-09f48bea8030 button');\n",
              "      quickchartButtonEl.style.display =\n",
              "        google.colab.kernel.accessAllowed ? 'block' : 'none';\n",
              "    })();\n",
              "  </script>\n",
              "</div>\n",
              "\n",
              "    </div>\n",
              "  </div>\n"
            ],
            "application/vnd.google.colaboratory.intrinsic+json": {
              "type": "dataframe",
              "variable_name": "df"
            }
          },
          "metadata": {},
          "execution_count": 155
        }
      ]
    },
    {
      "cell_type": "markdown",
      "source": [
        "Przygotowanie zbioru danych"
      ],
      "metadata": {
        "id": "r3-jFvePnlX0"
      }
    },
    {
      "cell_type": "code",
      "source": [
        "#Usunięcie kolumny z indeksami i kolumny track_id\n",
        "df = df.drop(df.columns[[0, 1]], axis=1)"
      ],
      "metadata": {
        "id": "lsHR_VlORsDE"
      },
      "execution_count": 156,
      "outputs": []
    },
    {
      "cell_type": "markdown",
      "source": [
        "Sprawdzenie, czy są rekordy z pustymi danymi:"
      ],
      "metadata": {
        "id": "zvy2dz4LuotS"
      }
    },
    {
      "cell_type": "code",
      "source": [
        "#Liczba rekordów z brakującymi danymi\n",
        "df.isnull().any(axis=1).sum()"
      ],
      "metadata": {
        "colab": {
          "base_uri": "https://localhost:8080/"
        },
        "id": "iPEeANimqEiw",
        "outputId": "8587e483-4f0a-4fa4-fb28-b4e011e3fcd8"
      },
      "execution_count": 157,
      "outputs": [
        {
          "output_type": "execute_result",
          "data": {
            "text/plain": [
              "1"
            ]
          },
          "metadata": {},
          "execution_count": 157
        }
      ]
    },
    {
      "cell_type": "code",
      "source": [
        "#Wyświetlenie rekordu z brakującymi danymi\n",
        "df[df.isnull().any(axis=1)]"
      ],
      "metadata": {
        "colab": {
          "base_uri": "https://localhost:8080/",
          "height": 101
        },
        "id": "qSlWe1FZpn-T",
        "outputId": "a0d9cce3-487b-4704-dda0-6d4a50f8ad93"
      },
      "execution_count": 158,
      "outputs": [
        {
          "output_type": "execute_result",
          "data": {
            "text/plain": [
              "      artists album_name track_name  popularity  duration_ms  explicit  \\\n",
              "65900     NaN        NaN        NaN           0            0     False   \n",
              "\n",
              "       danceability  energy  key  loudness  mode  speechiness  acousticness  \\\n",
              "65900         0.501   0.583    7     -9.46     0       0.0605          0.69   \n",
              "\n",
              "       instrumentalness  liveness  valence    tempo  time_signature  \\\n",
              "65900           0.00396    0.0747    0.734  138.391               4   \n",
              "\n",
              "      track_genre  \n",
              "65900       k-pop  "
            ],
            "text/html": [
              "\n",
              "  <div id=\"df-2518485d-a778-4323-a351-d5181866f479\" class=\"colab-df-container\">\n",
              "    <div>\n",
              "<style scoped>\n",
              "    .dataframe tbody tr th:only-of-type {\n",
              "        vertical-align: middle;\n",
              "    }\n",
              "\n",
              "    .dataframe tbody tr th {\n",
              "        vertical-align: top;\n",
              "    }\n",
              "\n",
              "    .dataframe thead th {\n",
              "        text-align: right;\n",
              "    }\n",
              "</style>\n",
              "<table border=\"1\" class=\"dataframe\">\n",
              "  <thead>\n",
              "    <tr style=\"text-align: right;\">\n",
              "      <th></th>\n",
              "      <th>artists</th>\n",
              "      <th>album_name</th>\n",
              "      <th>track_name</th>\n",
              "      <th>popularity</th>\n",
              "      <th>duration_ms</th>\n",
              "      <th>explicit</th>\n",
              "      <th>danceability</th>\n",
              "      <th>energy</th>\n",
              "      <th>key</th>\n",
              "      <th>loudness</th>\n",
              "      <th>mode</th>\n",
              "      <th>speechiness</th>\n",
              "      <th>acousticness</th>\n",
              "      <th>instrumentalness</th>\n",
              "      <th>liveness</th>\n",
              "      <th>valence</th>\n",
              "      <th>tempo</th>\n",
              "      <th>time_signature</th>\n",
              "      <th>track_genre</th>\n",
              "    </tr>\n",
              "  </thead>\n",
              "  <tbody>\n",
              "    <tr>\n",
              "      <th>65900</th>\n",
              "      <td>NaN</td>\n",
              "      <td>NaN</td>\n",
              "      <td>NaN</td>\n",
              "      <td>0</td>\n",
              "      <td>0</td>\n",
              "      <td>False</td>\n",
              "      <td>0.501</td>\n",
              "      <td>0.583</td>\n",
              "      <td>7</td>\n",
              "      <td>-9.46</td>\n",
              "      <td>0</td>\n",
              "      <td>0.0605</td>\n",
              "      <td>0.69</td>\n",
              "      <td>0.00396</td>\n",
              "      <td>0.0747</td>\n",
              "      <td>0.734</td>\n",
              "      <td>138.391</td>\n",
              "      <td>4</td>\n",
              "      <td>k-pop</td>\n",
              "    </tr>\n",
              "  </tbody>\n",
              "</table>\n",
              "</div>\n",
              "    <div class=\"colab-df-buttons\">\n",
              "\n",
              "  <div class=\"colab-df-container\">\n",
              "    <button class=\"colab-df-convert\" onclick=\"convertToInteractive('df-2518485d-a778-4323-a351-d5181866f479')\"\n",
              "            title=\"Convert this dataframe to an interactive table.\"\n",
              "            style=\"display:none;\">\n",
              "\n",
              "  <svg xmlns=\"http://www.w3.org/2000/svg\" height=\"24px\" viewBox=\"0 -960 960 960\">\n",
              "    <path d=\"M120-120v-720h720v720H120Zm60-500h600v-160H180v160Zm220 220h160v-160H400v160Zm0 220h160v-160H400v160ZM180-400h160v-160H180v160Zm440 0h160v-160H620v160ZM180-180h160v-160H180v160Zm440 0h160v-160H620v160Z\"/>\n",
              "  </svg>\n",
              "    </button>\n",
              "\n",
              "  <style>\n",
              "    .colab-df-container {\n",
              "      display:flex;\n",
              "      gap: 12px;\n",
              "    }\n",
              "\n",
              "    .colab-df-convert {\n",
              "      background-color: #E8F0FE;\n",
              "      border: none;\n",
              "      border-radius: 50%;\n",
              "      cursor: pointer;\n",
              "      display: none;\n",
              "      fill: #1967D2;\n",
              "      height: 32px;\n",
              "      padding: 0 0 0 0;\n",
              "      width: 32px;\n",
              "    }\n",
              "\n",
              "    .colab-df-convert:hover {\n",
              "      background-color: #E2EBFA;\n",
              "      box-shadow: 0px 1px 2px rgba(60, 64, 67, 0.3), 0px 1px 3px 1px rgba(60, 64, 67, 0.15);\n",
              "      fill: #174EA6;\n",
              "    }\n",
              "\n",
              "    .colab-df-buttons div {\n",
              "      margin-bottom: 4px;\n",
              "    }\n",
              "\n",
              "    [theme=dark] .colab-df-convert {\n",
              "      background-color: #3B4455;\n",
              "      fill: #D2E3FC;\n",
              "    }\n",
              "\n",
              "    [theme=dark] .colab-df-convert:hover {\n",
              "      background-color: #434B5C;\n",
              "      box-shadow: 0px 1px 3px 1px rgba(0, 0, 0, 0.15);\n",
              "      filter: drop-shadow(0px 1px 2px rgba(0, 0, 0, 0.3));\n",
              "      fill: #FFFFFF;\n",
              "    }\n",
              "  </style>\n",
              "\n",
              "    <script>\n",
              "      const buttonEl =\n",
              "        document.querySelector('#df-2518485d-a778-4323-a351-d5181866f479 button.colab-df-convert');\n",
              "      buttonEl.style.display =\n",
              "        google.colab.kernel.accessAllowed ? 'block' : 'none';\n",
              "\n",
              "      async function convertToInteractive(key) {\n",
              "        const element = document.querySelector('#df-2518485d-a778-4323-a351-d5181866f479');\n",
              "        const dataTable =\n",
              "          await google.colab.kernel.invokeFunction('convertToInteractive',\n",
              "                                                    [key], {});\n",
              "        if (!dataTable) return;\n",
              "\n",
              "        const docLinkHtml = 'Like what you see? Visit the ' +\n",
              "          '<a target=\"_blank\" href=https://colab.research.google.com/notebooks/data_table.ipynb>data table notebook</a>'\n",
              "          + ' to learn more about interactive tables.';\n",
              "        element.innerHTML = '';\n",
              "        dataTable['output_type'] = 'display_data';\n",
              "        await google.colab.output.renderOutput(dataTable, element);\n",
              "        const docLink = document.createElement('div');\n",
              "        docLink.innerHTML = docLinkHtml;\n",
              "        element.appendChild(docLink);\n",
              "      }\n",
              "    </script>\n",
              "  </div>\n",
              "\n",
              "\n",
              "    </div>\n",
              "  </div>\n"
            ],
            "application/vnd.google.colaboratory.intrinsic+json": {
              "type": "dataframe",
              "repr_error": "0"
            }
          },
          "metadata": {},
          "execution_count": 158
        }
      ]
    },
    {
      "cell_type": "code",
      "source": [
        "#Usunięcie rekordu z brakującymi danymi\n",
        "df = df.drop(65900)"
      ],
      "metadata": {
        "id": "MGLZ6F9Ymmur"
      },
      "execution_count": 159,
      "outputs": []
    },
    {
      "cell_type": "markdown",
      "source": [
        "Sprawdzenie, czy rekordy mają spójne wartości we wszystkich kolumnach:"
      ],
      "metadata": {
        "id": "p2sP9f_Juuhd"
      }
    },
    {
      "cell_type": "code",
      "source": [
        "#Sprawdzenie, czy są rekordy, które mają czas trwania utworu mniejszy lub równy zero\n",
        "(df['duration_ms'] <= 0).sum()"
      ],
      "metadata": {
        "colab": {
          "base_uri": "https://localhost:8080/"
        },
        "id": "sO0QODIDpKLm",
        "outputId": "388c344c-5c84-4429-d9f7-e7edb3a44ee7"
      },
      "execution_count": 160,
      "outputs": [
        {
          "output_type": "execute_result",
          "data": {
            "text/plain": [
              "0"
            ]
          },
          "metadata": {},
          "execution_count": 160
        }
      ]
    },
    {
      "cell_type": "code",
      "source": [
        "#Liczba rekordów, które nie mają popularity w przedziale od 0 do 100\n",
        "df[~df['popularity'].between(0, 100)].sum(axis=1)"
      ],
      "metadata": {
        "colab": {
          "base_uri": "https://localhost:8080/",
          "height": 84
        },
        "id": "1QMmGrJQrOy1",
        "outputId": "a0ce78c8-941d-450f-f8c0-73cfaba377d0"
      },
      "execution_count": 161,
      "outputs": [
        {
          "output_type": "execute_result",
          "data": {
            "text/plain": [
              "Series([], dtype: object)"
            ],
            "text/html": [
              "<div>\n",
              "<style scoped>\n",
              "    .dataframe tbody tr th:only-of-type {\n",
              "        vertical-align: middle;\n",
              "    }\n",
              "\n",
              "    .dataframe tbody tr th {\n",
              "        vertical-align: top;\n",
              "    }\n",
              "\n",
              "    .dataframe thead th {\n",
              "        text-align: right;\n",
              "    }\n",
              "</style>\n",
              "<table border=\"1\" class=\"dataframe\">\n",
              "  <thead>\n",
              "    <tr style=\"text-align: right;\">\n",
              "      <th></th>\n",
              "      <th>0</th>\n",
              "    </tr>\n",
              "  </thead>\n",
              "  <tbody>\n",
              "  </tbody>\n",
              "</table>\n",
              "</div><br><label><b>dtype:</b> object</label>"
            ]
          },
          "metadata": {},
          "execution_count": 161
        }
      ]
    },
    {
      "cell_type": "code",
      "source": [
        "#Liczba rekordów, które nie mają explicit typu boolean\n",
        "mask = ~df['explicit'].isin([True, False])\n",
        "mask.sum()"
      ],
      "metadata": {
        "colab": {
          "base_uri": "https://localhost:8080/"
        },
        "id": "LJ1yGAU8Obii",
        "outputId": "0ac5fefc-8ffe-42c6-8f94-e23b8e382a55"
      },
      "execution_count": 162,
      "outputs": [
        {
          "output_type": "execute_result",
          "data": {
            "text/plain": [
              "0"
            ]
          },
          "metadata": {},
          "execution_count": 162
        }
      ]
    },
    {
      "cell_type": "code",
      "source": [
        "#Liczba rekordów, które nie mają danceability, energy, speechiness, acousticness, instrumentalness, liveness i valence w przedziale od 0 do 1\n",
        "columns_to_check = ['danceability', 'energy', 'speechiness', 'acousticness', 'instrumentalness', 'liveness', 'valence']\n",
        "mask_out_of_range = (df[columns_to_check] < 0) | (df[columns_to_check] > 1)\n",
        "mask_out_of_range.any(axis=1).sum()"
      ],
      "metadata": {
        "colab": {
          "base_uri": "https://localhost:8080/"
        },
        "id": "gxDZC87EsXoz",
        "outputId": "e7737236-255f-4a55-ce9f-0a7789c9a82a"
      },
      "execution_count": 163,
      "outputs": [
        {
          "output_type": "execute_result",
          "data": {
            "text/plain": [
              "0"
            ]
          },
          "metadata": {},
          "execution_count": 163
        }
      ]
    },
    {
      "cell_type": "code",
      "source": [
        "#Liczba rekordów, które mają tempo poniżej zera\n",
        "(df['tempo'] < 0).sum()"
      ],
      "metadata": {
        "colab": {
          "base_uri": "https://localhost:8080/"
        },
        "id": "GD5TIbKAt3Ux",
        "outputId": "eeda6708-8bf0-49c8-f4f1-90cc0e06c881"
      },
      "execution_count": 164,
      "outputs": [
        {
          "output_type": "execute_result",
          "data": {
            "text/plain": [
              "0"
            ]
          },
          "metadata": {},
          "execution_count": 164
        }
      ]
    },
    {
      "cell_type": "code",
      "source": [
        "#Liczba rekordów, które nie mają time_signature w przedziale od 3 do 7\n",
        "((df['time_signature'] < 3) | (df['time_signature'] > 7)).sum()"
      ],
      "metadata": {
        "colab": {
          "base_uri": "https://localhost:8080/"
        },
        "id": "JIOBBxkxvkMT",
        "outputId": "36f22103-5f75-4704-b02f-01269501b2f1"
      },
      "execution_count": 167,
      "outputs": [
        {
          "output_type": "execute_result",
          "data": {
            "text/plain": [
              "1136"
            ]
          },
          "metadata": {},
          "execution_count": 167
        }
      ]
    },
    {
      "cell_type": "code",
      "source": [
        "#Usunięcie rekordów, które nie mają time_signature w przedziale od 3 do 7\n",
        "df = df[(df['time_signature'] >= 3) & (df['time_signature'] <= 7)]"
      ],
      "metadata": {
        "id": "LsVQxG7nwb41"
      },
      "execution_count": 168,
      "outputs": []
    },
    {
      "cell_type": "markdown",
      "source": [
        "Analiza zbioru\n",
        "\n",
        "Korelacje między cechami:"
      ],
      "metadata": {
        "id": "rNTzz4yKu8z_"
      }
    },
    {
      "cell_type": "code",
      "source": [
        "#Macierz korelacji\n",
        "df_corr = df[['popularity', 'duration_ms', 'danceability', 'energy', 'loudness', 'speechiness', 'acousticness', 'instrumentalness', 'liveness', 'valence', 'tempo', 'time_signature']]\n",
        "\n",
        "plt.figure(figsize=(12, 8))\n",
        "sns.heatmap(df_corr.corr(), annot=True, cmap='coolwarm')\n",
        "plt.title(\"Macierz korelacji\")\n",
        "plt.show()"
      ],
      "metadata": {
        "colab": {
          "base_uri": "https://localhost:8080/",
          "height": 805
        },
        "id": "-CDU3LlhRYDQ",
        "outputId": "57b64d6f-bdb5-49bf-e00c-1d65a4dc47a6"
      },
      "execution_count": 169,
      "outputs": [
        {
          "output_type": "display_data",
          "data": {
            "text/plain": [
              "<Figure size 1200x800 with 2 Axes>"
            ],
            "image/png": "[encoded data removed]"
          },
          "metadata": {}
        }
      ]
    },
    {
      "cell_type": "markdown",
      "source": [
        "Analiza macierzy korelacji:\n",
        "1. Silną korelację ujemną (-0.73) mają zmienne energy i acousticness. Zmienna energy jest miarą od 0.0 do 1.0 i reprezentuje percepcyjną miarę intensywności i aktywności utworu. Zmienna acousticness jest miarą zaufania od 0.0 do 1.0, która określa, czy utwór jest akustyczny. 1.0 oznacza wysokie zaufanie, że utwór jest akustyczny. Korelacja ta sugeruje, że utwory mające lepszą akustykę są zazwyczaj mniej energiczne.\n",
        "\n",
        "2. Wyraźną korelację ujemną (-0.59) mają zmienne acousticness i loudness. Zmienna loudness wyraża głośność utworu w decybelach. Korelacja ta sugeruje, że utwory cichsze mają z reguły lepszą akustykę.\n",
        "\n",
        "3. Silną korelację dodatnią (0.76) mają zmienne energy i loudness. Taka korelacja sugeruje, że utwory bardziej energiczne i intensywne są zazwyczaj głośniejsze.\n",
        "\n",
        "4. Umiarkowaną korelację dodatnią (0.47) mają zmienne danceability i valence. Zmienna danceability opisuje, jak odpowiedni jest utwór do tańca w oparciu o kombinację różnych elementów muzycznych. Wartość 0.0 oznacza najmniejszą taneczność, a 1.0 największą taneczność. Zmienna valence jest miarą od 0.0 do 1.0 opisującą muzyczną pozytywność przekazywaną przez utwór. Utwory o wysokim valence brzmią bardziej pozytywnie, podczas gdy utwory o niskiej wartościowości brzmią bardziej negatywnie. Korelacja ta sugeruje, że utwory bardziej pozytywne są zwykle lepsze do tańczenia."
      ],
      "metadata": {
        "id": "CKZleoF0VBNA"
      }
    },
    {
      "cell_type": "markdown",
      "source": [
        "Procent utworów z wulgaryzmami dla każdego gatunku"
      ],
      "metadata": {
        "id": "dgGGwLekvPHi"
      }
    },
    {
      "cell_type": "code",
      "source": [
        "#Procent piosenek z wulgaryzmami dla każdego gatunku muzycznego\n",
        "explicit_percent = (\n",
        "    df.groupby('track_genre')['explicit']\n",
        "    .mean()  # Średnia True (1) vs False (0) da nam procent\n",
        "    .mul(100)  # Przeliczenie na procenty\n",
        "    .reset_index()\n",
        "    .rename(columns={'explicit': 'explicit_percentage'})\n",
        ")\n",
        "\n",
        "explicit_percent_sorted = explicit_percent.sort_values(by='explicit_percentage', ascending=False)\n",
        "\n",
        "for index, row in explicit_percent_sorted.iterrows():\n",
        "    print(f\"Gatunek: {row['track_genre']}, Procent piosenek explicit: {row['explicit_percentage']:.2f}%\")"
      ],
      "metadata": {
        "colab": {
          "base_uri": "https://localhost:8080/"
        },
        "id": "4ROukO27cOpl",
        "outputId": "08927f04-965a-4329-9c8b-fedd78e0565b"
      },
      "execution_count": 170,
      "outputs": [
        {
          "output_type": "stream",
          "name": "stdout",
          "text": [
            "Gatunek: comedy, Procent piosenek explicit: 65.57%\n",
            "Gatunek: emo, Procent piosenek explicit: 46.59%\n",
            "Gatunek: sad, Procent piosenek explicit: 45.13%\n",
            "Gatunek: j-dance, Procent piosenek explicit: 39.07%\n",
            "Gatunek: hardcore, Procent piosenek explicit: 32.56%\n",
            "Gatunek: hip-hop, Procent piosenek explicit: 31.55%\n",
            "Gatunek: funk, Procent piosenek explicit: 30.32%\n",
            "Gatunek: dancehall, Procent piosenek explicit: 30.23%\n",
            "Gatunek: metalcore, Procent piosenek explicit: 29.31%\n",
            "Gatunek: death-metal, Procent piosenek explicit: 25.13%\n",
            "Gatunek: latino, Procent piosenek explicit: 24.97%\n",
            "Gatunek: industrial, Procent piosenek explicit: 23.49%\n",
            "Gatunek: french, Procent piosenek explicit: 22.01%\n",
            "Gatunek: turkish, Procent piosenek explicit: 21.89%\n",
            "Gatunek: reggaeton, Procent piosenek explicit: 21.24%\n",
            "Gatunek: dance, Procent piosenek explicit: 17.40%\n",
            "Gatunek: chill, Procent piosenek explicit: 17.20%\n",
            "Gatunek: reggae, Procent piosenek explicit: 16.75%\n",
            "Gatunek: alternative, Procent piosenek explicit: 16.43%\n",
            "Gatunek: grindcore, Procent piosenek explicit: 15.35%\n",
            "Gatunek: electro, Procent piosenek explicit: 15.25%\n",
            "Gatunek: metal, Procent piosenek explicit: 14.24%\n",
            "Gatunek: latin, Procent piosenek explicit: 13.33%\n",
            "Gatunek: black-metal, Procent piosenek explicit: 13.27%\n",
            "Gatunek: german, Procent piosenek explicit: 12.82%\n",
            "Gatunek: happy, Procent piosenek explicit: 12.55%\n",
            "Gatunek: electronic, Procent piosenek explicit: 12.05%\n",
            "Gatunek: house, Procent piosenek explicit: 10.70%\n",
            "Gatunek: punk, Procent piosenek explicit: 10.62%\n",
            "Gatunek: edm, Procent piosenek explicit: 10.61%\n",
            "Gatunek: indie-pop, Procent piosenek explicit: 10.58%\n",
            "Gatunek: soul, Procent piosenek explicit: 10.42%\n",
            "Gatunek: groove, Procent piosenek explicit: 9.73%\n",
            "Gatunek: hardstyle, Procent piosenek explicit: 9.63%\n",
            "Gatunek: swedish, Procent piosenek explicit: 9.56%\n",
            "Gatunek: garage, Procent piosenek explicit: 9.54%\n",
            "Gatunek: dubstep, Procent piosenek explicit: 9.54%\n",
            "Gatunek: r-n-b, Procent piosenek explicit: 8.69%\n",
            "Gatunek: club, Procent piosenek explicit: 8.57%\n",
            "Gatunek: brazil, Procent piosenek explicit: 8.44%\n",
            "Gatunek: heavy-metal, Procent piosenek explicit: 8.32%\n",
            "Gatunek: indie, Procent piosenek explicit: 8.29%\n",
            "Gatunek: iranian, Procent piosenek explicit: 8.27%\n",
            "Gatunek: punk-rock, Procent piosenek explicit: 8.02%\n",
            "Gatunek: pop, Procent piosenek explicit: 7.49%\n",
            "Gatunek: dub, Procent piosenek explicit: 7.41%\n",
            "Gatunek: grunge, Procent piosenek explicit: 7.24%\n",
            "Gatunek: goth, Procent piosenek explicit: 6.62%\n",
            "Gatunek: alt-rock, Procent piosenek explicit: 5.61%\n",
            "Gatunek: anime, Procent piosenek explicit: 5.44%\n",
            "Gatunek: acoustic, Procent piosenek explicit: 5.25%\n",
            "Gatunek: progressive-house, Procent piosenek explicit: 5.21%\n",
            "Gatunek: k-pop, Procent piosenek explicit: 4.93%\n",
            "Gatunek: hard-rock, Procent piosenek explicit: 4.91%\n",
            "Gatunek: breakbeat, Procent piosenek explicit: 4.80%\n",
            "Gatunek: songwriter, Procent piosenek explicit: 4.61%\n",
            "Gatunek: singer-songwriter, Procent piosenek explicit: 4.61%\n",
            "Gatunek: trip-hop, Procent piosenek explicit: 4.53%\n",
            "Gatunek: party, Procent piosenek explicit: 4.52%\n",
            "Gatunek: synth-pop, Procent piosenek explicit: 4.41%\n",
            "Gatunek: rock, Procent piosenek explicit: 4.30%\n",
            "Gatunek: british, Procent piosenek explicit: 3.94%\n",
            "Gatunek: spanish, Procent piosenek explicit: 3.81%\n",
            "Gatunek: malay, Procent piosenek explicit: 3.70%\n",
            "Gatunek: power-pop, Procent piosenek explicit: 3.30%\n",
            "Gatunek: country, Procent piosenek explicit: 3.00%\n",
            "Gatunek: drum-and-bass, Procent piosenek explicit: 2.60%\n",
            "Gatunek: techno, Procent piosenek explicit: 2.51%\n",
            "Gatunek: deep-house, Procent piosenek explicit: 2.51%\n",
            "Gatunek: indian, Procent piosenek explicit: 2.45%\n",
            "Gatunek: ska, Procent piosenek explicit: 2.41%\n",
            "Gatunek: trance, Procent piosenek explicit: 2.21%\n",
            "Gatunek: show-tunes, Procent piosenek explicit: 1.84%\n",
            "Gatunek: forro, Procent piosenek explicit: 1.80%\n",
            "Gatunek: chicago-house, Procent piosenek explicit: 1.80%\n",
            "Gatunek: j-rock, Procent piosenek explicit: 1.70%\n",
            "Gatunek: afrobeat, Procent piosenek explicit: 1.61%\n",
            "Gatunek: psych-rock, Procent piosenek explicit: 1.51%\n",
            "Gatunek: pagode, Procent piosenek explicit: 1.50%\n",
            "Gatunek: blues, Procent piosenek explicit: 1.41%\n",
            "Gatunek: idm, Procent piosenek explicit: 1.33%\n",
            "Gatunek: piano, Procent piosenek explicit: 1.22%\n",
            "Gatunek: j-pop, Procent piosenek explicit: 1.21%\n",
            "Gatunek: kids, Procent piosenek explicit: 0.81%\n",
            "Gatunek: mandopop, Procent piosenek explicit: 0.80%\n",
            "Gatunek: detroit-techno, Procent piosenek explicit: 0.70%\n",
            "Gatunek: folk, Procent piosenek explicit: 0.62%\n",
            "Gatunek: sertanejo, Procent piosenek explicit: 0.60%\n",
            "Gatunek: disco, Procent piosenek explicit: 0.60%\n",
            "Gatunek: ambient, Procent piosenek explicit: 0.52%\n",
            "Gatunek: new-age, Procent piosenek explicit: 0.51%\n",
            "Gatunek: mpb, Procent piosenek explicit: 0.50%\n",
            "Gatunek: bluegrass, Procent piosenek explicit: 0.50%\n",
            "Gatunek: rockabilly, Procent piosenek explicit: 0.50%\n",
            "Gatunek: romance, Procent piosenek explicit: 0.41%\n",
            "Gatunek: minimal-techno, Procent piosenek explicit: 0.40%\n",
            "Gatunek: jazz, Procent piosenek explicit: 0.31%\n",
            "Gatunek: salsa, Procent piosenek explicit: 0.30%\n",
            "Gatunek: guitar, Procent piosenek explicit: 0.20%\n",
            "Gatunek: samba, Procent piosenek explicit: 0.20%\n",
            "Gatunek: rock-n-roll, Procent piosenek explicit: 0.20%\n",
            "Gatunek: cantopop, Procent piosenek explicit: 0.20%\n",
            "Gatunek: opera, Procent piosenek explicit: 0.10%\n",
            "Gatunek: disney, Procent piosenek explicit: 0.10%\n",
            "Gatunek: pop-film, Procent piosenek explicit: 0.10%\n",
            "Gatunek: j-idol, Procent piosenek explicit: 0.10%\n",
            "Gatunek: tango, Procent piosenek explicit: 0.00%\n",
            "Gatunek: study, Procent piosenek explicit: 0.00%\n",
            "Gatunek: honky-tonk, Procent piosenek explicit: 0.00%\n",
            "Gatunek: classical, Procent piosenek explicit: 0.00%\n",
            "Gatunek: children, Procent piosenek explicit: 0.00%\n",
            "Gatunek: gospel, Procent piosenek explicit: 0.00%\n",
            "Gatunek: sleep, Procent piosenek explicit: 0.00%\n",
            "Gatunek: world-music, Procent piosenek explicit: 0.00%\n"
          ]
        }
      ]
    },
    {
      "cell_type": "markdown",
      "source": [
        "Największy procent piosenek (65,57 %) z wulgaryzmami ma gatunek comedy. Na drugim miejscu jest gatunek emo (46,59 %), a na trzecim gatunek sad (45,13 %).\n",
        "\n",
        "Spory procent piosenek z wulgaryzmami mają też takie gatunki, jak hip-hop, hardcore (gatunek wyrażający intensywne emocje w brzmieniu i tekstach) , czy j-dance (gatunek związany z japońską muzyką).\n",
        "\n",
        "Można też zauważyć, że w zbiorze tym jest kilka piosenek z Disneya, które zawierają wulgaryzmy."
      ],
      "metadata": {
        "id": "SLyjXRgUeWSD"
      }
    },
    {
      "cell_type": "code",
      "source": [
        "#Najdłuższy utwór\n",
        "max_index = df['duration_ms'].idxmax()\n",
        "df.loc[max_index]"
      ],
      "metadata": {
        "colab": {
          "base_uri": "https://localhost:8080/",
          "height": 680
        },
        "id": "E3fGnZahg6lv",
        "outputId": "8d21f2e3-5d1e-4024-95e9-b2c78cebad95"
      },
      "execution_count": 174,
      "outputs": [
        {
          "output_type": "execute_result",
          "data": {
            "text/plain": [
              "artists                           Tale Of Us\n",
              "album_name                Unity (Voyage Mix)\n",
              "track_name          Unity (Voyage Mix) Pt. 1\n",
              "popularity                                35\n",
              "duration_ms                          5237295\n",
              "explicit                               False\n",
              "danceability                           0.695\n",
              "energy                                 0.736\n",
              "key                                        5\n",
              "loudness                             -11.371\n",
              "mode                                       0\n",
              "speechiness                           0.0374\n",
              "acousticness                         0.00399\n",
              "instrumentalness                        0.86\n",
              "liveness                               0.091\n",
              "valence                               0.0509\n",
              "tempo                                124.001\n",
              "time_signature                             4\n",
              "track_genre                   minimal-techno\n",
              "Name: 73617, dtype: object"
            ],
            "text/html": [
              "<div>\n",
              "<style scoped>\n",
              "    .dataframe tbody tr th:only-of-type {\n",
              "        vertical-align: middle;\n",
              "    }\n",
              "\n",
              "    .dataframe tbody tr th {\n",
              "        vertical-align: top;\n",
              "    }\n",
              "\n",
              "    .dataframe thead th {\n",
              "        text-align: right;\n",
              "    }\n",
              "</style>\n",
              "<table border=\"1\" class=\"dataframe\">\n",
              "  <thead>\n",
              "    <tr style=\"text-align: right;\">\n",
              "      <th></th>\n",
              "      <th>73617</th>\n",
              "    </tr>\n",
              "  </thead>\n",
              "  <tbody>\n",
              "    <tr>\n",
              "      <th>artists</th>\n",
              "      <td>Tale Of Us</td>\n",
              "    </tr>\n",
              "    <tr>\n",
              "      <th>album_name</th>\n",
              "      <td>Unity (Voyage Mix)</td>\n",
              "    </tr>\n",
              "    <tr>\n",
              "      <th>track_name</th>\n",
              "      <td>Unity (Voyage Mix) Pt. 1</td>\n",
              "    </tr>\n",
              "    <tr>\n",
              "      <th>popularity</th>\n",
              "      <td>35</td>\n",
              "    </tr>\n",
              "    <tr>\n",
              "      <th>duration_ms</th>\n",
              "      <td>5237295</td>\n",
              "    </tr>\n",
              "    <tr>\n",
              "      <th>explicit</th>\n",
              "      <td>False</td>\n",
              "    </tr>\n",
              "    <tr>\n",
              "      <th>danceability</th>\n",
              "      <td>0.695</td>\n",
              "    </tr>\n",
              "    <tr>\n",
              "      <th>energy</th>\n",
              "      <td>0.736</td>\n",
              "    </tr>\n",
              "    <tr>\n",
              "      <th>key</th>\n",
              "      <td>5</td>\n",
              "    </tr>\n",
              "    <tr>\n",
              "      <th>loudness</th>\n",
              "      <td>-11.371</td>\n",
              "    </tr>\n",
              "    <tr>\n",
              "      <th>mode</th>\n",
              "      <td>0</td>\n",
              "    </tr>\n",
              "    <tr>\n",
              "      <th>speechiness</th>\n",
              "      <td>0.0374</td>\n",
              "    </tr>\n",
              "    <tr>\n",
              "      <th>acousticness</th>\n",
              "      <td>0.00399</td>\n",
              "    </tr>\n",
              "    <tr>\n",
              "      <th>instrumentalness</th>\n",
              "      <td>0.86</td>\n",
              "    </tr>\n",
              "    <tr>\n",
              "      <th>liveness</th>\n",
              "      <td>0.091</td>\n",
              "    </tr>\n",
              "    <tr>\n",
              "      <th>valence</th>\n",
              "      <td>0.0509</td>\n",
              "    </tr>\n",
              "    <tr>\n",
              "      <th>tempo</th>\n",
              "      <td>124.001</td>\n",
              "    </tr>\n",
              "    <tr>\n",
              "      <th>time_signature</th>\n",
              "      <td>4</td>\n",
              "    </tr>\n",
              "    <tr>\n",
              "      <th>track_genre</th>\n",
              "      <td>minimal-techno</td>\n",
              "    </tr>\n",
              "  </tbody>\n",
              "</table>\n",
              "</div><br><label><b>dtype:</b> object</label>"
            ]
          },
          "metadata": {},
          "execution_count": 174
        }
      ]
    },
    {
      "cell_type": "markdown",
      "source": [
        "Najdłuższym utworem jest utwór z gatunku minimal-techno pod tytułem \"Unity (Voyage Mix) Pt. 1\" autorstwa Tale Of Us. Utwór ten trwa 5237295 ms, czyli ok. 1 godzina, 27 minut i 17 sekund."
      ],
      "metadata": {
        "id": "yeMsOnfPh_zJ"
      }
    },
    {
      "cell_type": "code",
      "source": [
        "#Najkrótszy utwór\n",
        "min_index = df['duration_ms'].idxmin()\n",
        "df.loc[min_index]"
      ],
      "metadata": {
        "colab": {
          "base_uri": "https://localhost:8080/",
          "height": 680
        },
        "id": "zpdFw2d-KW2v",
        "outputId": "8228656f-fedd-40fa-aaab-ff125b261cab"
      },
      "execution_count": 175,
      "outputs": [
        {
          "output_type": "execute_result",
          "data": {
            "text/plain": [
              "artists                                Leila Bela;Leila's Opera Class\n",
              "album_name                                                Angra Manyu\n",
              "track_name          Screams for a Finale! (feat. Leila's Opera Class)\n",
              "popularity                                                          0\n",
              "duration_ms                                                     15800\n",
              "explicit                                                        False\n",
              "danceability                                                    0.251\n",
              "energy                                                          0.508\n",
              "key                                                                 5\n",
              "loudness                                                      -10.564\n",
              "mode                                                                0\n",
              "speechiness                                                     0.316\n",
              "acousticness                                                    0.969\n",
              "instrumentalness                                                0.999\n",
              "liveness                                                        0.952\n",
              "valence                                                           0.0\n",
              "tempo                                                         184.051\n",
              "time_signature                                                      3\n",
              "track_genre                                                   iranian\n",
              "Name: 59775, dtype: object"
            ],
            "text/html": [
              "<div>\n",
              "<style scoped>\n",
              "    .dataframe tbody tr th:only-of-type {\n",
              "        vertical-align: middle;\n",
              "    }\n",
              "\n",
              "    .dataframe tbody tr th {\n",
              "        vertical-align: top;\n",
              "    }\n",
              "\n",
              "    .dataframe thead th {\n",
              "        text-align: right;\n",
              "    }\n",
              "</style>\n",
              "<table border=\"1\" class=\"dataframe\">\n",
              "  <thead>\n",
              "    <tr style=\"text-align: right;\">\n",
              "      <th></th>\n",
              "      <th>59775</th>\n",
              "    </tr>\n",
              "  </thead>\n",
              "  <tbody>\n",
              "    <tr>\n",
              "      <th>artists</th>\n",
              "      <td>Leila Bela;Leila's Opera Class</td>\n",
              "    </tr>\n",
              "    <tr>\n",
              "      <th>album_name</th>\n",
              "      <td>Angra Manyu</td>\n",
              "    </tr>\n",
              "    <tr>\n",
              "      <th>track_name</th>\n",
              "      <td>Screams for a Finale! (feat. Leila's Opera Class)</td>\n",
              "    </tr>\n",
              "    <tr>\n",
              "      <th>popularity</th>\n",
              "      <td>0</td>\n",
              "    </tr>\n",
              "    <tr>\n",
              "      <th>duration_ms</th>\n",
              "      <td>15800</td>\n",
              "    </tr>\n",
              "    <tr>\n",
              "      <th>explicit</th>\n",
              "      <td>False</td>\n",
              "    </tr>\n",
              "    <tr>\n",
              "      <th>danceability</th>\n",
              "      <td>0.251</td>\n",
              "    </tr>\n",
              "    <tr>\n",
              "      <th>energy</th>\n",
              "      <td>0.508</td>\n",
              "    </tr>\n",
              "    <tr>\n",
              "      <th>key</th>\n",
              "      <td>5</td>\n",
              "    </tr>\n",
              "    <tr>\n",
              "      <th>loudness</th>\n",
              "      <td>-10.564</td>\n",
              "    </tr>\n",
              "    <tr>\n",
              "      <th>mode</th>\n",
              "      <td>0</td>\n",
              "    </tr>\n",
              "    <tr>\n",
              "      <th>speechiness</th>\n",
              "      <td>0.316</td>\n",
              "    </tr>\n",
              "    <tr>\n",
              "      <th>acousticness</th>\n",
              "      <td>0.969</td>\n",
              "    </tr>\n",
              "    <tr>\n",
              "      <th>instrumentalness</th>\n",
              "      <td>0.999</td>\n",
              "    </tr>\n",
              "    <tr>\n",
              "      <th>liveness</th>\n",
              "      <td>0.952</td>\n",
              "    </tr>\n",
              "    <tr>\n",
              "      <th>valence</th>\n",
              "      <td>0.0</td>\n",
              "    </tr>\n",
              "    <tr>\n",
              "      <th>tempo</th>\n",
              "      <td>184.051</td>\n",
              "    </tr>\n",
              "    <tr>\n",
              "      <th>time_signature</th>\n",
              "      <td>3</td>\n",
              "    </tr>\n",
              "    <tr>\n",
              "      <th>track_genre</th>\n",
              "      <td>iranian</td>\n",
              "    </tr>\n",
              "  </tbody>\n",
              "</table>\n",
              "</div><br><label><b>dtype:</b> object</label>"
            ]
          },
          "metadata": {},
          "execution_count": 175
        }
      ]
    },
    {
      "cell_type": "markdown",
      "source": [
        "Najkrótszym utworem jest irański utwór pod tytułem \"Screams for a Finale! (feat. Leila's Opera Class)\" autorstwa Leila Bela i Leila's Opera Class. Ma on 15800 ms, czyli ok. 16 sekund."
      ],
      "metadata": {
        "id": "T2czeW-CKktC"
      }
    },
    {
      "cell_type": "code",
      "source": [
        "#Średni czas trwania utworu\n",
        "df['duration_ms'].mean()"
      ],
      "metadata": {
        "colab": {
          "base_uri": "https://localhost:8080/"
        },
        "id": "v-hc3BsMiaIu",
        "outputId": "a177a325-ef02-4107-a8b9-bd7ffca0b576"
      },
      "execution_count": 176,
      "outputs": [
        {
          "output_type": "execute_result",
          "data": {
            "text/plain": [
              "228281.05256815784"
            ]
          },
          "metadata": {},
          "execution_count": 176
        }
      ]
    },
    {
      "cell_type": "markdown",
      "source": [
        "Średni czas trwania utworu to ok. 228281 ms, czyli ok. 3 minuty i 48 sekund."
      ],
      "metadata": {
        "id": "EI7w2S59iotR"
      }
    },
    {
      "cell_type": "code",
      "source": [
        "#Najgłośniejszy utwór\n",
        "max_index = df['loudness'].idxmax()\n",
        "df.loc[max_index]"
      ],
      "metadata": {
        "colab": {
          "base_uri": "https://localhost:8080/",
          "height": 680
        },
        "id": "8X7SsU7Fn9Mr",
        "outputId": "74040120-627e-4358-e30e-ca005763d6d0"
      },
      "execution_count": 177,
      "outputs": [
        {
          "output_type": "execute_result",
          "data": {
            "text/plain": [
              "artists             Five Star Hotel\n",
              "album_name                Gray Data\n",
              "track_name               Fate Dance\n",
              "popularity                       16\n",
              "duration_ms                  237000\n",
              "explicit                      False\n",
              "danceability                   0.31\n",
              "energy                        0.999\n",
              "key                               4\n",
              "loudness                      4.532\n",
              "mode                              0\n",
              "speechiness                   0.343\n",
              "acousticness               0.000102\n",
              "instrumentalness              0.945\n",
              "liveness                      0.148\n",
              "valence                      0.0333\n",
              "tempo                        160.04\n",
              "time_signature                    4\n",
              "track_genre                    club\n",
              "Name: 17574, dtype: object"
            ],
            "text/html": [
              "<div>\n",
              "<style scoped>\n",
              "    .dataframe tbody tr th:only-of-type {\n",
              "        vertical-align: middle;\n",
              "    }\n",
              "\n",
              "    .dataframe tbody tr th {\n",
              "        vertical-align: top;\n",
              "    }\n",
              "\n",
              "    .dataframe thead th {\n",
              "        text-align: right;\n",
              "    }\n",
              "</style>\n",
              "<table border=\"1\" class=\"dataframe\">\n",
              "  <thead>\n",
              "    <tr style=\"text-align: right;\">\n",
              "      <th></th>\n",
              "      <th>17574</th>\n",
              "    </tr>\n",
              "  </thead>\n",
              "  <tbody>\n",
              "    <tr>\n",
              "      <th>artists</th>\n",
              "      <td>Five Star Hotel</td>\n",
              "    </tr>\n",
              "    <tr>\n",
              "      <th>album_name</th>\n",
              "      <td>Gray Data</td>\n",
              "    </tr>\n",
              "    <tr>\n",
              "      <th>track_name</th>\n",
              "      <td>Fate Dance</td>\n",
              "    </tr>\n",
              "    <tr>\n",
              "      <th>popularity</th>\n",
              "      <td>16</td>\n",
              "    </tr>\n",
              "    <tr>\n",
              "      <th>duration_ms</th>\n",
              "      <td>237000</td>\n",
              "    </tr>\n",
              "    <tr>\n",
              "      <th>explicit</th>\n",
              "      <td>False</td>\n",
              "    </tr>\n",
              "    <tr>\n",
              "      <th>danceability</th>\n",
              "      <td>0.31</td>\n",
              "    </tr>\n",
              "    <tr>\n",
              "      <th>energy</th>\n",
              "      <td>0.999</td>\n",
              "    </tr>\n",
              "    <tr>\n",
              "      <th>key</th>\n",
              "      <td>4</td>\n",
              "    </tr>\n",
              "    <tr>\n",
              "      <th>loudness</th>\n",
              "      <td>4.532</td>\n",
              "    </tr>\n",
              "    <tr>\n",
              "      <th>mode</th>\n",
              "      <td>0</td>\n",
              "    </tr>\n",
              "    <tr>\n",
              "      <th>speechiness</th>\n",
              "      <td>0.343</td>\n",
              "    </tr>\n",
              "    <tr>\n",
              "      <th>acousticness</th>\n",
              "      <td>0.000102</td>\n",
              "    </tr>\n",
              "    <tr>\n",
              "      <th>instrumentalness</th>\n",
              "      <td>0.945</td>\n",
              "    </tr>\n",
              "    <tr>\n",
              "      <th>liveness</th>\n",
              "      <td>0.148</td>\n",
              "    </tr>\n",
              "    <tr>\n",
              "      <th>valence</th>\n",
              "      <td>0.0333</td>\n",
              "    </tr>\n",
              "    <tr>\n",
              "      <th>tempo</th>\n",
              "      <td>160.04</td>\n",
              "    </tr>\n",
              "    <tr>\n",
              "      <th>time_signature</th>\n",
              "      <td>4</td>\n",
              "    </tr>\n",
              "    <tr>\n",
              "      <th>track_genre</th>\n",
              "      <td>club</td>\n",
              "    </tr>\n",
              "  </tbody>\n",
              "</table>\n",
              "</div><br><label><b>dtype:</b> object</label>"
            ]
          },
          "metadata": {},
          "execution_count": 177
        }
      ]
    },
    {
      "cell_type": "markdown",
      "source": [
        "Najgłośniejszym utworem jest utwór z muzyki klubowej pod tytułem \"Fate Dance\" autorstwa Five Star Hotel. Ma on 4.532 dB."
      ],
      "metadata": {
        "id": "iopTU1hFoKZq"
      }
    },
    {
      "cell_type": "code",
      "source": [
        "#Najcichszy utwór\n",
        "min_index = df['loudness'].idxmin()\n",
        "df.loc[min_index]"
      ],
      "metadata": {
        "colab": {
          "base_uri": "https://localhost:8080/",
          "height": 680
        },
        "id": "SS5H_T79onAO",
        "outputId": "97e6b983-0f82-499f-e780-daf22466167d"
      },
      "execution_count": 178,
      "outputs": [
        {
          "output_type": "execute_result",
          "data": {
            "text/plain": [
              "artists                                         Atmosphere Asmr\n",
              "album_name          Fan Sounds & White Noise 2 (Deluxe Edition)\n",
              "track_name                       Ceiling Fan Sound on Low Power\n",
              "popularity                                                   34\n",
              "duration_ms                                              120000\n",
              "explicit                                                  False\n",
              "danceability                                              0.162\n",
              "energy                                                  0.00483\n",
              "key                                                           6\n",
              "loudness                                                -46.591\n",
              "mode                                                          0\n",
              "speechiness                                              0.0507\n",
              "acousticness                                              0.924\n",
              "instrumentalness                                          0.965\n",
              "liveness                                                   0.11\n",
              "valence                                                  0.0327\n",
              "tempo                                                   138.768\n",
              "time_signature                                                4\n",
              "track_genre                                               sleep\n",
              "Name: 101722, dtype: object"
            ],
            "text/html": [
              "<div>\n",
              "<style scoped>\n",
              "    .dataframe tbody tr th:only-of-type {\n",
              "        vertical-align: middle;\n",
              "    }\n",
              "\n",
              "    .dataframe tbody tr th {\n",
              "        vertical-align: top;\n",
              "    }\n",
              "\n",
              "    .dataframe thead th {\n",
              "        text-align: right;\n",
              "    }\n",
              "</style>\n",
              "<table border=\"1\" class=\"dataframe\">\n",
              "  <thead>\n",
              "    <tr style=\"text-align: right;\">\n",
              "      <th></th>\n",
              "      <th>101722</th>\n",
              "    </tr>\n",
              "  </thead>\n",
              "  <tbody>\n",
              "    <tr>\n",
              "      <th>artists</th>\n",
              "      <td>Atmosphere Asmr</td>\n",
              "    </tr>\n",
              "    <tr>\n",
              "      <th>album_name</th>\n",
              "      <td>Fan Sounds &amp; White Noise 2 (Deluxe Edition)</td>\n",
              "    </tr>\n",
              "    <tr>\n",
              "      <th>track_name</th>\n",
              "      <td>Ceiling Fan Sound on Low Power</td>\n",
              "    </tr>\n",
              "    <tr>\n",
              "      <th>popularity</th>\n",
              "      <td>34</td>\n",
              "    </tr>\n",
              "    <tr>\n",
              "      <th>duration_ms</th>\n",
              "      <td>120000</td>\n",
              "    </tr>\n",
              "    <tr>\n",
              "      <th>explicit</th>\n",
              "      <td>False</td>\n",
              "    </tr>\n",
              "    <tr>\n",
              "      <th>danceability</th>\n",
              "      <td>0.162</td>\n",
              "    </tr>\n",
              "    <tr>\n",
              "      <th>energy</th>\n",
              "      <td>0.00483</td>\n",
              "    </tr>\n",
              "    <tr>\n",
              "      <th>key</th>\n",
              "      <td>6</td>\n",
              "    </tr>\n",
              "    <tr>\n",
              "      <th>loudness</th>\n",
              "      <td>-46.591</td>\n",
              "    </tr>\n",
              "    <tr>\n",
              "      <th>mode</th>\n",
              "      <td>0</td>\n",
              "    </tr>\n",
              "    <tr>\n",
              "      <th>speechiness</th>\n",
              "      <td>0.0507</td>\n",
              "    </tr>\n",
              "    <tr>\n",
              "      <th>acousticness</th>\n",
              "      <td>0.924</td>\n",
              "    </tr>\n",
              "    <tr>\n",
              "      <th>instrumentalness</th>\n",
              "      <td>0.965</td>\n",
              "    </tr>\n",
              "    <tr>\n",
              "      <th>liveness</th>\n",
              "      <td>0.11</td>\n",
              "    </tr>\n",
              "    <tr>\n",
              "      <th>valence</th>\n",
              "      <td>0.0327</td>\n",
              "    </tr>\n",
              "    <tr>\n",
              "      <th>tempo</th>\n",
              "      <td>138.768</td>\n",
              "    </tr>\n",
              "    <tr>\n",
              "      <th>time_signature</th>\n",
              "      <td>4</td>\n",
              "    </tr>\n",
              "    <tr>\n",
              "      <th>track_genre</th>\n",
              "      <td>sleep</td>\n",
              "    </tr>\n",
              "  </tbody>\n",
              "</table>\n",
              "</div><br><label><b>dtype:</b> object</label>"
            ]
          },
          "metadata": {},
          "execution_count": 178
        }
      ]
    },
    {
      "cell_type": "markdown",
      "source": [
        "Najcichszym utworem jest utwór do spania pod tytułem \"Ceiling Fan Sound on Low Power\" autorstwa Atmosphere Asmr. Ma on -46.591 dB."
      ],
      "metadata": {
        "id": "0GocEeubo3pP"
      }
    },
    {
      "cell_type": "code",
      "source": [
        "#Średnia głośność\n",
        "df['loudness'].mean()"
      ],
      "metadata": {
        "colab": {
          "base_uri": "https://localhost:8080/"
        },
        "id": "2spj9k1FpDkc",
        "outputId": "99044bb1-1d43-4052-df9e-83c11d974cc5"
      },
      "execution_count": 179,
      "outputs": [
        {
          "output_type": "execute_result",
          "data": {
            "text/plain": [
              "-8.199520950178536"
            ]
          },
          "metadata": {},
          "execution_count": 179
        }
      ]
    },
    {
      "cell_type": "markdown",
      "source": [
        "Średnia głośność to ok. -8.2 dB."
      ],
      "metadata": {
        "id": "czSBkLcwpJzE"
      }
    },
    {
      "cell_type": "code",
      "source": [
        "#Histogram tempa (uderzenia na minutę)\n",
        "plt.figure(figsize=(12, 6))\n",
        "sns.histplot(df['tempo'], kde=True)\n",
        "plt.title(\"Histogram z funkcją gęstości dla tempa utworu (uderzenia na minutę)\")\n",
        "plt.show()"
      ],
      "metadata": {
        "colab": {
          "base_uri": "https://localhost:8080/",
          "height": 565
        },
        "id": "ZSzSG9Umpd-n",
        "outputId": "d2510f09-6380-490f-dc71-10b0f7532c0e"
      },
      "execution_count": null,
      "outputs": [
        {
          "output_type": "display_data",
          "data": {
            "text/plain": [
              "<Figure size 1200x600 with 1 Axes>"
            ],
            "image/png": "[encoded data removed]"
          },
          "metadata": {}
        }
      ]
    },
    {
      "cell_type": "code",
      "source": [
        "#Boxplot dla głośności utworu [dB]\n",
        "plt.figure(figsize=(12, 6))\n",
        "sns.boxplot(x=df['loudness'])\n",
        "plt.title(\"Boxplot dla głośności utworu [dB]\")\n",
        "plt.show()"
      ],
      "metadata": {
        "colab": {
          "base_uri": "https://localhost:8080/",
          "height": 565
        },
        "id": "rQ9PFCxJp0rD",
        "outputId": "7f8d08ac-1507-418b-d528-9bffbb0d2d0f"
      },
      "execution_count": null,
      "outputs": [
        {
          "output_type": "display_data",
          "data": {
            "text/plain": [
              "<Figure size 1200x600 with 1 Axes>"
            ],
            "image/png": "[encoded data removed]"
          },
          "metadata": {}
        }
      ]
    }
  ]
}