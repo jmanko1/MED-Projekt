{
  "nbformat": 4,
  "nbformat_minor": 0,
  "metadata": {
    "colab": {
      "provenance": []
    },
    "kernelspec": {
      "name": "python3",
      "display_name": "Python 3"
    },
    "language_info": {
      "name": "python"
    }
  },
  "cells": [
    {
      "cell_type": "code",
      "execution_count": 1,
      "metadata": {
        "id": "S03mbArlGBZ3"
      },
      "outputs": [],
      "source": [
        "#Import bibliotek\n",
        "import pandas as pd\n",
        "import seaborn as sns\n",
        "import matplotlib.pyplot as plt"
      ]
    },
    {
      "cell_type": "code",
      "source": [
        "#Wczytanie zbioru\n",
        "df = pd.read_csv(\"dataset.csv\", index_col=0)\n",
        "df.head()"
      ],
      "metadata": {
        "colab": {
          "base_uri": "https://localhost:8080/",
          "height": 365
        },
        "id": "emPmcsfORUNN",
        "outputId": "7f0b7617-e813-40fe-da95-c295ce483afe"
      },
      "execution_count": 175,
      "outputs": [
        {
          "output_type": "execute_result",
          "data": {
            "text/plain": [
              "                 track_id                 artists  \\\n",
              "0  5SuOikwiRyPMVoIQDJUgSV             Gen Hoshino   \n",
              "1  4qPNDBW1i3p13qLCt0Ki3A            Ben Woodward   \n",
              "2  1iJBSr7s7jYXzM8EGcbK5b  Ingrid Michaelson;ZAYN   \n",
              "3  6lfxq3CG4xtTiEg7opyCyx            Kina Grannis   \n",
              "4  5vjLSffimiIP26QG5WcN2K        Chord Overstreet   \n",
              "\n",
              "                                          album_name  \\\n",
              "0                                             Comedy   \n",
              "1                                   Ghost (Acoustic)   \n",
              "2                                     To Begin Again   \n",
              "3  Crazy Rich Asians (Original Motion Picture Sou...   \n",
              "4                                            Hold On   \n",
              "\n",
              "                   track_name  popularity  duration_ms  explicit  \\\n",
              "0                      Comedy          73       230666     False   \n",
              "1            Ghost - Acoustic          55       149610     False   \n",
              "2              To Begin Again          57       210826     False   \n",
              "3  Can't Help Falling In Love          71       201933     False   \n",
              "4                     Hold On          82       198853     False   \n",
              "\n",
              "   danceability  energy  key  loudness  mode  speechiness  acousticness  \\\n",
              "0         0.676  0.4610    1    -6.746     0       0.1430        0.0322   \n",
              "1         0.420  0.1660    1   -17.235     1       0.0763        0.9240   \n",
              "2         0.438  0.3590    0    -9.734     1       0.0557        0.2100   \n",
              "3         0.266  0.0596    0   -18.515     1       0.0363        0.9050   \n",
              "4         0.618  0.4430    2    -9.681     1       0.0526        0.4690   \n",
              "\n",
              "   instrumentalness  liveness  valence    tempo  time_signature track_genre  \n",
              "0          0.000001    0.3580    0.715   87.917               4    acoustic  \n",
              "1          0.000006    0.1010    0.267   77.489               4    acoustic  \n",
              "2          0.000000    0.1170    0.120   76.332               4    acoustic  \n",
              "3          0.000071    0.1320    0.143  181.740               3    acoustic  \n",
              "4          0.000000    0.0829    0.167  119.949               4    acoustic  "
            ],
            "text/html": [
              "\n",
              "  <div id=\"df-f044f4a4-77ba-442c-b2c0-e1f1b1425a46\" class=\"colab-df-container\">\n",
              "    <div>\n",
              "<style scoped>\n",
              "    .dataframe tbody tr th:only-of-type {\n",
              "        vertical-align: middle;\n",
              "    }\n",
              "\n",
              "    .dataframe tbody tr th {\n",
              "        vertical-align: top;\n",
              "    }\n",
              "\n",
              "    .dataframe thead th {\n",
              "        text-align: right;\n",
              "    }\n",
              "</style>\n",
              "<table border=\"1\" class=\"dataframe\">\n",
              "  <thead>\n",
              "    <tr style=\"text-align: right;\">\n",
              "      <th></th>\n",
              "      <th>track_id</th>\n",
              "      <th>artists</th>\n",
              "      <th>album_name</th>\n",
              "      <th>track_name</th>\n",
              "      <th>popularity</th>\n",
              "      <th>duration_ms</th>\n",
              "      <th>explicit</th>\n",
              "      <th>danceability</th>\n",
              "      <th>energy</th>\n",
              "      <th>key</th>\n",
              "      <th>loudness</th>\n",
              "      <th>mode</th>\n",
              "      <th>speechiness</th>\n",
              "      <th>acousticness</th>\n",
              "      <th>instrumentalness</th>\n",
              "      <th>liveness</th>\n",
              "      <th>valence</th>\n",
              "      <th>tempo</th>\n",
              "      <th>time_signature</th>\n",
              "      <th>track_genre</th>\n",
              "    </tr>\n",
              "  </thead>\n",
              "  <tbody>\n",
              "    <tr>\n",
              "      <th>0</th>\n",
              "      <td>5SuOikwiRyPMVoIQDJUgSV</td>\n",
              "      <td>Gen Hoshino</td>\n",
              "      <td>Comedy</td>\n",
              "      <td>Comedy</td>\n",
              "      <td>73</td>\n",
              "      <td>230666</td>\n",
              "      <td>False</td>\n",
              "      <td>0.676</td>\n",
              "      <td>0.4610</td>\n",
              "      <td>1</td>\n",
              "      <td>-6.746</td>\n",
              "      <td>0</td>\n",
              "      <td>0.1430</td>\n",
              "      <td>0.0322</td>\n",
              "      <td>0.000001</td>\n",
              "      <td>0.3580</td>\n",
              "      <td>0.715</td>\n",
              "      <td>87.917</td>\n",
              "      <td>4</td>\n",
              "      <td>acoustic</td>\n",
              "    </tr>\n",
              "    <tr>\n",
              "      <th>1</th>\n",
              "      <td>4qPNDBW1i3p13qLCt0Ki3A</td>\n",
              "      <td>Ben Woodward</td>\n",
              "      <td>Ghost (Acoustic)</td>\n",
              "      <td>Ghost - Acoustic</td>\n",
              "      <td>55</td>\n",
              "      <td>149610</td>\n",
              "      <td>False</td>\n",
              "      <td>0.420</td>\n",
              "      <td>0.1660</td>\n",
              "      <td>1</td>\n",
              "      <td>-17.235</td>\n",
              "      <td>1</td>\n",
              "      <td>0.0763</td>\n",
              "      <td>0.9240</td>\n",
              "      <td>0.000006</td>\n",
              "      <td>0.1010</td>\n",
              "      <td>0.267</td>\n",
              "      <td>77.489</td>\n",
              "      <td>4</td>\n",
              "      <td>acoustic</td>\n",
              "    </tr>\n",
              "    <tr>\n",
              "      <th>2</th>\n",
              "      <td>1iJBSr7s7jYXzM8EGcbK5b</td>\n",
              "      <td>Ingrid Michaelson;ZAYN</td>\n",
              "      <td>To Begin Again</td>\n",
              "      <td>To Begin Again</td>\n",
              "      <td>57</td>\n",
              "      <td>210826</td>\n",
              "      <td>False</td>\n",
              "      <td>0.438</td>\n",
              "      <td>0.3590</td>\n",
              "      <td>0</td>\n",
              "      <td>-9.734</td>\n",
              "      <td>1</td>\n",
              "      <td>0.0557</td>\n",
              "      <td>0.2100</td>\n",
              "      <td>0.000000</td>\n",
              "      <td>0.1170</td>\n",
              "      <td>0.120</td>\n",
              "      <td>76.332</td>\n",
              "      <td>4</td>\n",
              "      <td>acoustic</td>\n",
              "    </tr>\n",
              "    <tr>\n",
              "      <th>3</th>\n",
              "      <td>6lfxq3CG4xtTiEg7opyCyx</td>\n",
              "      <td>Kina Grannis</td>\n",
              "      <td>Crazy Rich Asians (Original Motion Picture Sou...</td>\n",
              "      <td>Can't Help Falling In Love</td>\n",
              "      <td>71</td>\n",
              "      <td>201933</td>\n",
              "      <td>False</td>\n",
              "      <td>0.266</td>\n",
              "      <td>0.0596</td>\n",
              "      <td>0</td>\n",
              "      <td>-18.515</td>\n",
              "      <td>1</td>\n",
              "      <td>0.0363</td>\n",
              "      <td>0.9050</td>\n",
              "      <td>0.000071</td>\n",
              "      <td>0.1320</td>\n",
              "      <td>0.143</td>\n",
              "      <td>181.740</td>\n",
              "      <td>3</td>\n",
              "      <td>acoustic</td>\n",
              "    </tr>\n",
              "    <tr>\n",
              "      <th>4</th>\n",
              "      <td>5vjLSffimiIP26QG5WcN2K</td>\n",
              "      <td>Chord Overstreet</td>\n",
              "      <td>Hold On</td>\n",
              "      <td>Hold On</td>\n",
              "      <td>82</td>\n",
              "      <td>198853</td>\n",
              "      <td>False</td>\n",
              "      <td>0.618</td>\n",
              "      <td>0.4430</td>\n",
              "      <td>2</td>\n",
              "      <td>-9.681</td>\n",
              "      <td>1</td>\n",
              "      <td>0.0526</td>\n",
              "      <td>0.4690</td>\n",
              "      <td>0.000000</td>\n",
              "      <td>0.0829</td>\n",
              "      <td>0.167</td>\n",
              "      <td>119.949</td>\n",
              "      <td>4</td>\n",
              "      <td>acoustic</td>\n",
              "    </tr>\n",
              "  </tbody>\n",
              "</table>\n",
              "</div>\n",
              "    <div class=\"colab-df-buttons\">\n",
              "\n",
              "  <div class=\"colab-df-container\">\n",
              "    <button class=\"colab-df-convert\" onclick=\"convertToInteractive('df-f044f4a4-77ba-442c-b2c0-e1f1b1425a46')\"\n",
              "            title=\"Convert this dataframe to an interactive table.\"\n",
              "            style=\"display:none;\">\n",
              "\n",
              "  <svg xmlns=\"http://www.w3.org/2000/svg\" height=\"24px\" viewBox=\"0 -960 960 960\">\n",
              "    <path d=\"M120-120v-720h720v720H120Zm60-500h600v-160H180v160Zm220 220h160v-160H400v160Zm0 220h160v-160H400v160ZM180-400h160v-160H180v160Zm440 0h160v-160H620v160ZM180-180h160v-160H180v160Zm440 0h160v-160H620v160Z\"/>\n",
              "  </svg>\n",
              "    </button>\n",
              "\n",
              "  <style>\n",
              "    .colab-df-container {\n",
              "      display:flex;\n",
              "      gap: 12px;\n",
              "    }\n",
              "\n",
              "    .colab-df-convert {\n",
              "      background-color: #E8F0FE;\n",
              "      border: none;\n",
              "      border-radius: 50%;\n",
              "      cursor: pointer;\n",
              "      display: none;\n",
              "      fill: #1967D2;\n",
              "      height: 32px;\n",
              "      padding: 0 0 0 0;\n",
              "      width: 32px;\n",
              "    }\n",
              "\n",
              "    .colab-df-convert:hover {\n",
              "      background-color: #E2EBFA;\n",
              "      box-shadow: 0px 1px 2px rgba(60, 64, 67, 0.3), 0px 1px 3px 1px rgba(60, 64, 67, 0.15);\n",
              "      fill: #174EA6;\n",
              "    }\n",
              "\n",
              "    .colab-df-buttons div {\n",
              "      margin-bottom: 4px;\n",
              "    }\n",
              "\n",
              "    [theme=dark] .colab-df-convert {\n",
              "      background-color: #3B4455;\n",
              "      fill: #D2E3FC;\n",
              "    }\n",
              "\n",
              "    [theme=dark] .colab-df-convert:hover {\n",
              "      background-color: #434B5C;\n",
              "      box-shadow: 0px 1px 3px 1px rgba(0, 0, 0, 0.15);\n",
              "      filter: drop-shadow(0px 1px 2px rgba(0, 0, 0, 0.3));\n",
              "      fill: #FFFFFF;\n",
              "    }\n",
              "  </style>\n",
              "\n",
              "    <script>\n",
              "      const buttonEl =\n",
              "        document.querySelector('#df-f044f4a4-77ba-442c-b2c0-e1f1b1425a46 button.colab-df-convert');\n",
              "      buttonEl.style.display =\n",
              "        google.colab.kernel.accessAllowed ? 'block' : 'none';\n",
              "\n",
              "      async function convertToInteractive(key) {\n",
              "        const element = document.querySelector('#df-f044f4a4-77ba-442c-b2c0-e1f1b1425a46');\n",
              "        const dataTable =\n",
              "          await google.colab.kernel.invokeFunction('convertToInteractive',\n",
              "                                                    [key], {});\n",
              "        if (!dataTable) return;\n",
              "\n",
              "        const docLinkHtml = 'Like what you see? Visit the ' +\n",
              "          '<a target=\"_blank\" href=https://colab.research.google.com/notebooks/data_table.ipynb>data table notebook</a>'\n",
              "          + ' to learn more about interactive tables.';\n",
              "        element.innerHTML = '';\n",
              "        dataTable['output_type'] = 'display_data';\n",
              "        await google.colab.output.renderOutput(dataTable, element);\n",
              "        const docLink = document.createElement('div');\n",
              "        docLink.innerHTML = docLinkHtml;\n",
              "        element.appendChild(docLink);\n",
              "      }\n",
              "    </script>\n",
              "  </div>\n",
              "\n",
              "\n",
              "<div id=\"df-ba179a8d-acd2-4e74-913d-b045fe7d910b\">\n",
              "  <button class=\"colab-df-quickchart\" onclick=\"quickchart('df-ba179a8d-acd2-4e74-913d-b045fe7d910b')\"\n",
              "            title=\"Suggest charts\"\n",
              "            style=\"display:none;\">\n",
              "\n",
              "<svg xmlns=\"http://www.w3.org/2000/svg\" height=\"24px\"viewBox=\"0 0 24 24\"\n",
              "     width=\"24px\">\n",
              "    <g>\n",
              "        <path d=\"M19 3H5c-1.1 0-2 .9-2 2v14c0 1.1.9 2 2 2h14c1.1 0 2-.9 2-2V5c0-1.1-.9-2-2-2zM9 17H7v-7h2v7zm4 0h-2V7h2v10zm4 0h-2v-4h2v4z\"/>\n",
              "    </g>\n",
              "</svg>\n",
              "  </button>\n",
              "\n",
              "<style>\n",
              "  .colab-df-quickchart {\n",
              "      --bg-color: #E8F0FE;\n",
              "      --fill-color: #1967D2;\n",
              "      --hover-bg-color: #E2EBFA;\n",
              "      --hover-fill-color: #174EA6;\n",
              "      --disabled-fill-color: #AAA;\n",
              "      --disabled-bg-color: #DDD;\n",
              "  }\n",
              "\n",
              "  [theme=dark] .colab-df-quickchart {\n",
              "      --bg-color: #3B4455;\n",
              "      --fill-color: #D2E3FC;\n",
              "      --hover-bg-color: #434B5C;\n",
              "      --hover-fill-color: #FFFFFF;\n",
              "      --disabled-bg-color: #3B4455;\n",
              "      --disabled-fill-color: #666;\n",
              "  }\n",
              "\n",
              "  .colab-df-quickchart {\n",
              "    background-color: var(--bg-color);\n",
              "    border: none;\n",
              "    border-radius: 50%;\n",
              "    cursor: pointer;\n",
              "    display: none;\n",
              "    fill: var(--fill-color);\n",
              "    height: 32px;\n",
              "    padding: 0;\n",
              "    width: 32px;\n",
              "  }\n",
              "\n",
              "  .colab-df-quickchart:hover {\n",
              "    background-color: var(--hover-bg-color);\n",
              "    box-shadow: 0 1px 2px rgba(60, 64, 67, 0.3), 0 1px 3px 1px rgba(60, 64, 67, 0.15);\n",
              "    fill: var(--button-hover-fill-color);\n",
              "  }\n",
              "\n",
              "  .colab-df-quickchart-complete:disabled,\n",
              "  .colab-df-quickchart-complete:disabled:hover {\n",
              "    background-color: var(--disabled-bg-color);\n",
              "    fill: var(--disabled-fill-color);\n",
              "    box-shadow: none;\n",
              "  }\n",
              "\n",
              "  .colab-df-spinner {\n",
              "    border: 2px solid var(--fill-color);\n",
              "    border-color: transparent;\n",
              "    border-bottom-color: var(--fill-color);\n",
              "    animation:\n",
              "      spin 1s steps(1) infinite;\n",
              "  }\n",
              "\n",
              "  @keyframes spin {\n",
              "    0% {\n",
              "      border-color: transparent;\n",
              "      border-bottom-color: var(--fill-color);\n",
              "      border-left-color: var(--fill-color);\n",
              "    }\n",
              "    20% {\n",
              "      border-color: transparent;\n",
              "      border-left-color: var(--fill-color);\n",
              "      border-top-color: var(--fill-color);\n",
              "    }\n",
              "    30% {\n",
              "      border-color: transparent;\n",
              "      border-left-color: var(--fill-color);\n",
              "      border-top-color: var(--fill-color);\n",
              "      border-right-color: var(--fill-color);\n",
              "    }\n",
              "    40% {\n",
              "      border-color: transparent;\n",
              "      border-right-color: var(--fill-color);\n",
              "      border-top-color: var(--fill-color);\n",
              "    }\n",
              "    60% {\n",
              "      border-color: transparent;\n",
              "      border-right-color: var(--fill-color);\n",
              "    }\n",
              "    80% {\n",
              "      border-color: transparent;\n",
              "      border-right-color: var(--fill-color);\n",
              "      border-bottom-color: var(--fill-color);\n",
              "    }\n",
              "    90% {\n",
              "      border-color: transparent;\n",
              "      border-bottom-color: var(--fill-color);\n",
              "    }\n",
              "  }\n",
              "</style>\n",
              "\n",
              "  <script>\n",
              "    async function quickchart(key) {\n",
              "      const quickchartButtonEl =\n",
              "        document.querySelector('#' + key + ' button');\n",
              "      quickchartButtonEl.disabled = true;  // To prevent multiple clicks.\n",
              "      quickchartButtonEl.classList.add('colab-df-spinner');\n",
              "      try {\n",
              "        const charts = await google.colab.kernel.invokeFunction(\n",
              "            'suggestCharts', [key], {});\n",
              "      } catch (error) {\n",
              "        console.error('Error during call to suggestCharts:', error);\n",
              "      }\n",
              "      quickchartButtonEl.classList.remove('colab-df-spinner');\n",
              "      quickchartButtonEl.classList.add('colab-df-quickchart-complete');\n",
              "    }\n",
              "    (() => {\n",
              "      let quickchartButtonEl =\n",
              "        document.querySelector('#df-ba179a8d-acd2-4e74-913d-b045fe7d910b button');\n",
              "      quickchartButtonEl.style.display =\n",
              "        google.colab.kernel.accessAllowed ? 'block' : 'none';\n",
              "    })();\n",
              "  </script>\n",
              "</div>\n",
              "\n",
              "    </div>\n",
              "  </div>\n"
            ],
            "application/vnd.google.colaboratory.intrinsic+json": {
              "type": "dataframe",
              "variable_name": "df"
            }
          },
          "metadata": {},
          "execution_count": 175
        }
      ]
    },
    {
      "cell_type": "markdown",
      "source": [
        "**Przygotowanie zbioru danych do analizy**"
      ],
      "metadata": {
        "id": "r3-jFvePnlX0"
      }
    },
    {
      "cell_type": "code",
      "source": [
        "#Usunięcie kolumny z indeksami i kolumny track_id\n",
        "df = df.drop(df.columns[0], axis=1)"
      ],
      "metadata": {
        "id": "lsHR_VlORsDE"
      },
      "execution_count": 176,
      "outputs": []
    },
    {
      "cell_type": "markdown",
      "source": [
        "Sprawdzenie, czy są rekordy z pustymi danymi:"
      ],
      "metadata": {
        "id": "zvy2dz4LuotS"
      }
    },
    {
      "cell_type": "code",
      "source": [
        "#Liczba rekordów z brakującymi danymi\n",
        "df.isnull().any(axis=1).sum()"
      ],
      "metadata": {
        "colab": {
          "base_uri": "https://localhost:8080/"
        },
        "id": "iPEeANimqEiw",
        "outputId": "91515c60-a7ba-4fc1-98c3-704d4161abd6"
      },
      "execution_count": 177,
      "outputs": [
        {
          "output_type": "execute_result",
          "data": {
            "text/plain": [
              "1"
            ]
          },
          "metadata": {},
          "execution_count": 177
        }
      ]
    },
    {
      "cell_type": "code",
      "source": [
        "#Wyświetlenie rekordu z brakującymi danymi\n",
        "df[df.isnull().any(axis=1)]"
      ],
      "metadata": {
        "colab": {
          "base_uri": "https://localhost:8080/",
          "height": 101
        },
        "id": "qSlWe1FZpn-T",
        "outputId": "15b05733-aa0e-40da-8b12-f50bd80baea5"
      },
      "execution_count": 178,
      "outputs": [
        {
          "output_type": "execute_result",
          "data": {
            "text/plain": [
              "      artists album_name track_name  popularity  duration_ms  explicit  \\\n",
              "65900     NaN        NaN        NaN           0            0     False   \n",
              "\n",
              "       danceability  energy  key  loudness  mode  speechiness  acousticness  \\\n",
              "65900         0.501   0.583    7     -9.46     0       0.0605          0.69   \n",
              "\n",
              "       instrumentalness  liveness  valence    tempo  time_signature  \\\n",
              "65900           0.00396    0.0747    0.734  138.391               4   \n",
              "\n",
              "      track_genre  \n",
              "65900       k-pop  "
            ],
            "text/html": [
              "\n",
              "  <div id=\"df-0eb17d74-669f-46b7-958e-94d8d5dd8159\" class=\"colab-df-container\">\n",
              "    <div>\n",
              "<style scoped>\n",
              "    .dataframe tbody tr th:only-of-type {\n",
              "        vertical-align: middle;\n",
              "    }\n",
              "\n",
              "    .dataframe tbody tr th {\n",
              "        vertical-align: top;\n",
              "    }\n",
              "\n",
              "    .dataframe thead th {\n",
              "        text-align: right;\n",
              "    }\n",
              "</style>\n",
              "<table border=\"1\" class=\"dataframe\">\n",
              "  <thead>\n",
              "    <tr style=\"text-align: right;\">\n",
              "      <th></th>\n",
              "      <th>artists</th>\n",
              "      <th>album_name</th>\n",
              "      <th>track_name</th>\n",
              "      <th>popularity</th>\n",
              "      <th>duration_ms</th>\n",
              "      <th>explicit</th>\n",
              "      <th>danceability</th>\n",
              "      <th>energy</th>\n",
              "      <th>key</th>\n",
              "      <th>loudness</th>\n",
              "      <th>mode</th>\n",
              "      <th>speechiness</th>\n",
              "      <th>acousticness</th>\n",
              "      <th>instrumentalness</th>\n",
              "      <th>liveness</th>\n",
              "      <th>valence</th>\n",
              "      <th>tempo</th>\n",
              "      <th>time_signature</th>\n",
              "      <th>track_genre</th>\n",
              "    </tr>\n",
              "  </thead>\n",
              "  <tbody>\n",
              "    <tr>\n",
              "      <th>65900</th>\n",
              "      <td>NaN</td>\n",
              "      <td>NaN</td>\n",
              "      <td>NaN</td>\n",
              "      <td>0</td>\n",
              "      <td>0</td>\n",
              "      <td>False</td>\n",
              "      <td>0.501</td>\n",
              "      <td>0.583</td>\n",
              "      <td>7</td>\n",
              "      <td>-9.46</td>\n",
              "      <td>0</td>\n",
              "      <td>0.0605</td>\n",
              "      <td>0.69</td>\n",
              "      <td>0.00396</td>\n",
              "      <td>0.0747</td>\n",
              "      <td>0.734</td>\n",
              "      <td>138.391</td>\n",
              "      <td>4</td>\n",
              "      <td>k-pop</td>\n",
              "    </tr>\n",
              "  </tbody>\n",
              "</table>\n",
              "</div>\n",
              "    <div class=\"colab-df-buttons\">\n",
              "\n",
              "  <div class=\"colab-df-container\">\n",
              "    <button class=\"colab-df-convert\" onclick=\"convertToInteractive('df-0eb17d74-669f-46b7-958e-94d8d5dd8159')\"\n",
              "            title=\"Convert this dataframe to an interactive table.\"\n",
              "            style=\"display:none;\">\n",
              "\n",
              "  <svg xmlns=\"http://www.w3.org/2000/svg\" height=\"24px\" viewBox=\"0 -960 960 960\">\n",
              "    <path d=\"M120-120v-720h720v720H120Zm60-500h600v-160H180v160Zm220 220h160v-160H400v160Zm0 220h160v-160H400v160ZM180-400h160v-160H180v160Zm440 0h160v-160H620v160ZM180-180h160v-160H180v160Zm440 0h160v-160H620v160Z\"/>\n",
              "  </svg>\n",
              "    </button>\n",
              "\n",
              "  <style>\n",
              "    .colab-df-container {\n",
              "      display:flex;\n",
              "      gap: 12px;\n",
              "    }\n",
              "\n",
              "    .colab-df-convert {\n",
              "      background-color: #E8F0FE;\n",
              "      border: none;\n",
              "      border-radius: 50%;\n",
              "      cursor: pointer;\n",
              "      display: none;\n",
              "      fill: #1967D2;\n",
              "      height: 32px;\n",
              "      padding: 0 0 0 0;\n",
              "      width: 32px;\n",
              "    }\n",
              "\n",
              "    .colab-df-convert:hover {\n",
              "      background-color: #E2EBFA;\n",
              "      box-shadow: 0px 1px 2px rgba(60, 64, 67, 0.3), 0px 1px 3px 1px rgba(60, 64, 67, 0.15);\n",
              "      fill: #174EA6;\n",
              "    }\n",
              "\n",
              "    .colab-df-buttons div {\n",
              "      margin-bottom: 4px;\n",
              "    }\n",
              "\n",
              "    [theme=dark] .colab-df-convert {\n",
              "      background-color: #3B4455;\n",
              "      fill: #D2E3FC;\n",
              "    }\n",
              "\n",
              "    [theme=dark] .colab-df-convert:hover {\n",
              "      background-color: #434B5C;\n",
              "      box-shadow: 0px 1px 3px 1px rgba(0, 0, 0, 0.15);\n",
              "      filter: drop-shadow(0px 1px 2px rgba(0, 0, 0, 0.3));\n",
              "      fill: #FFFFFF;\n",
              "    }\n",
              "  </style>\n",
              "\n",
              "    <script>\n",
              "      const buttonEl =\n",
              "        document.querySelector('#df-0eb17d74-669f-46b7-958e-94d8d5dd8159 button.colab-df-convert');\n",
              "      buttonEl.style.display =\n",
              "        google.colab.kernel.accessAllowed ? 'block' : 'none';\n",
              "\n",
              "      async function convertToInteractive(key) {\n",
              "        const element = document.querySelector('#df-0eb17d74-669f-46b7-958e-94d8d5dd8159');\n",
              "        const dataTable =\n",
              "          await google.colab.kernel.invokeFunction('convertToInteractive',\n",
              "                                                    [key], {});\n",
              "        if (!dataTable) return;\n",
              "\n",
              "        const docLinkHtml = 'Like what you see? Visit the ' +\n",
              "          '<a target=\"_blank\" href=https://colab.research.google.com/notebooks/data_table.ipynb>data table notebook</a>'\n",
              "          + ' to learn more about interactive tables.';\n",
              "        element.innerHTML = '';\n",
              "        dataTable['output_type'] = 'display_data';\n",
              "        await google.colab.output.renderOutput(dataTable, element);\n",
              "        const docLink = document.createElement('div');\n",
              "        docLink.innerHTML = docLinkHtml;\n",
              "        element.appendChild(docLink);\n",
              "      }\n",
              "    </script>\n",
              "  </div>\n",
              "\n",
              "\n",
              "    </div>\n",
              "  </div>\n"
            ],
            "application/vnd.google.colaboratory.intrinsic+json": {
              "type": "dataframe",
              "repr_error": "0"
            }
          },
          "metadata": {},
          "execution_count": 178
        }
      ]
    },
    {
      "cell_type": "code",
      "source": [
        "#Usunięcie rekordu z brakującymi danymi\n",
        "df = df.drop(65900)"
      ],
      "metadata": {
        "id": "MGLZ6F9Ymmur"
      },
      "execution_count": 179,
      "outputs": []
    },
    {
      "cell_type": "markdown",
      "source": [
        "Sprawdzenie, czy rekordy mają spójne wartości we wszystkich kolumnach:"
      ],
      "metadata": {
        "id": "p2sP9f_Juuhd"
      }
    },
    {
      "cell_type": "code",
      "source": [
        "#Liczba rekordów, które nie mają popularity w przedziale od 0 do 100\n",
        "df[~df['popularity'].between(0, 100)].sum(axis=1)"
      ],
      "metadata": {
        "colab": {
          "base_uri": "https://localhost:8080/",
          "height": 84
        },
        "id": "1QMmGrJQrOy1",
        "outputId": "6823f2c4-6a48-401c-d27f-cb178a322a32"
      },
      "execution_count": 180,
      "outputs": [
        {
          "output_type": "execute_result",
          "data": {
            "text/plain": [
              "Series([], dtype: object)"
            ],
            "text/html": [
              "<div>\n",
              "<style scoped>\n",
              "    .dataframe tbody tr th:only-of-type {\n",
              "        vertical-align: middle;\n",
              "    }\n",
              "\n",
              "    .dataframe tbody tr th {\n",
              "        vertical-align: top;\n",
              "    }\n",
              "\n",
              "    .dataframe thead th {\n",
              "        text-align: right;\n",
              "    }\n",
              "</style>\n",
              "<table border=\"1\" class=\"dataframe\">\n",
              "  <thead>\n",
              "    <tr style=\"text-align: right;\">\n",
              "      <th></th>\n",
              "      <th>0</th>\n",
              "    </tr>\n",
              "  </thead>\n",
              "  <tbody>\n",
              "  </tbody>\n",
              "</table>\n",
              "</div><br><label><b>dtype:</b> object</label>"
            ]
          },
          "metadata": {},
          "execution_count": 180
        }
      ]
    },
    {
      "cell_type": "code",
      "source": [
        "#Sprawdzenie, czy są rekordy, które mają czas trwania utworu mniejszy lub równy zero\n",
        "(df['duration_ms'] <= 0).sum()"
      ],
      "metadata": {
        "colab": {
          "base_uri": "https://localhost:8080/"
        },
        "id": "sO0QODIDpKLm",
        "outputId": "f0a306c2-e740-4c41-ac0f-907df495aa35"
      },
      "execution_count": 181,
      "outputs": [
        {
          "output_type": "execute_result",
          "data": {
            "text/plain": [
              "0"
            ]
          },
          "metadata": {},
          "execution_count": 181
        }
      ]
    },
    {
      "cell_type": "code",
      "source": [
        "#Liczba rekordów, które nie mają explicit typu boolean\n",
        "mask = ~df['explicit'].isin([True, False])\n",
        "mask.sum()"
      ],
      "metadata": {
        "colab": {
          "base_uri": "https://localhost:8080/"
        },
        "id": "LJ1yGAU8Obii",
        "outputId": "8b3946e2-cbe5-4e69-cabb-de1d633a86f5"
      },
      "execution_count": 182,
      "outputs": [
        {
          "output_type": "execute_result",
          "data": {
            "text/plain": [
              "0"
            ]
          },
          "metadata": {},
          "execution_count": 182
        }
      ]
    },
    {
      "cell_type": "code",
      "source": [
        "#Liczba rekordów, które nie mają danceability, energy, speechiness, acousticness, instrumentalness, liveness i valence w przedziale od 0 do 1\n",
        "columns_to_check = ['danceability', 'energy', 'speechiness', 'acousticness', 'instrumentalness', 'liveness', 'valence']\n",
        "mask_out_of_range = (df[columns_to_check] < 0) | (df[columns_to_check] > 1)\n",
        "mask_out_of_range.any(axis=1).sum()"
      ],
      "metadata": {
        "colab": {
          "base_uri": "https://localhost:8080/"
        },
        "id": "gxDZC87EsXoz",
        "outputId": "70ce93c0-a1e4-4fe5-bcee-d35657a440c9"
      },
      "execution_count": 183,
      "outputs": [
        {
          "output_type": "execute_result",
          "data": {
            "text/plain": [
              "0"
            ]
          },
          "metadata": {},
          "execution_count": 183
        }
      ]
    },
    {
      "cell_type": "code",
      "source": [
        "#Liczba rekordów, które mają tempo poniżej zera\n",
        "(df['tempo'] < 0).sum()"
      ],
      "metadata": {
        "colab": {
          "base_uri": "https://localhost:8080/"
        },
        "id": "GD5TIbKAt3Ux",
        "outputId": "d6a3ede9-8f32-46c9-fc0d-2af1696f22cc"
      },
      "execution_count": 184,
      "outputs": [
        {
          "output_type": "execute_result",
          "data": {
            "text/plain": [
              "0"
            ]
          },
          "metadata": {},
          "execution_count": 184
        }
      ]
    },
    {
      "cell_type": "code",
      "source": [
        "#Liczba rekordów, które nie mają time_signature w przedziale od 3 do 7\n",
        "mask = ~df['time_signature'].isin([3,4,5,6,7])\n",
        "mask.sum()"
      ],
      "metadata": {
        "colab": {
          "base_uri": "https://localhost:8080/"
        },
        "id": "JIOBBxkxvkMT",
        "outputId": "2eb7483d-53cd-4be6-9306-07a8c98a9db6"
      },
      "execution_count": 185,
      "outputs": [
        {
          "output_type": "execute_result",
          "data": {
            "text/plain": [
              "1136"
            ]
          },
          "metadata": {},
          "execution_count": 185
        }
      ]
    },
    {
      "cell_type": "code",
      "source": [
        "#Usunięcie rekordów, które nie mają time_signature w przedziale od 3 do 7\n",
        "df = df[(df['time_signature'] >= 3) & (df['time_signature'] <= 7)]"
      ],
      "metadata": {
        "id": "LsVQxG7nwb41"
      },
      "execution_count": 186,
      "outputs": []
    },
    {
      "cell_type": "code",
      "source": [
        "#Liczba rekordów, które nie mają dozwolonych wartości w kolumnie key\n",
        "mask = ~df['key'].isin([-1,0,1,2,3,4,5,6,7,8,9,10,11])\n",
        "mask.sum()"
      ],
      "metadata": {
        "colab": {
          "base_uri": "https://localhost:8080/"
        },
        "id": "pyrYadrmnKCj",
        "outputId": "30c2afb2-f209-4273-b361-8777baf44afb"
      },
      "execution_count": 187,
      "outputs": [
        {
          "output_type": "execute_result",
          "data": {
            "text/plain": [
              "0"
            ]
          },
          "metadata": {},
          "execution_count": 187
        }
      ]
    },
    {
      "cell_type": "code",
      "source": [
        "#Liczba rekordów, które nie mają dozwolonych wartości w kolumnie mode\n",
        "mask = ~df['mode'].isin([0,1])\n",
        "mask.sum()"
      ],
      "metadata": {
        "colab": {
          "base_uri": "https://localhost:8080/"
        },
        "id": "XuoDOKSJm-kk",
        "outputId": "4e224b5a-2c04-4a1d-a742-d40b094a0a2d"
      },
      "execution_count": 188,
      "outputs": [
        {
          "output_type": "execute_result",
          "data": {
            "text/plain": [
              "0"
            ]
          },
          "metadata": {},
          "execution_count": 188
        }
      ]
    },
    {
      "cell_type": "markdown",
      "source": [
        "**Analiza zbioru**\n",
        "\n",
        "Korelacje między cechami:"
      ],
      "metadata": {
        "id": "rNTzz4yKu8z_"
      }
    },
    {
      "cell_type": "code",
      "source": [
        "#Macierz korelacji\n",
        "df_corr = df[['popularity', 'duration_ms', 'danceability', 'energy', 'loudness', 'speechiness', 'acousticness', 'instrumentalness', 'liveness', 'valence', 'tempo', 'time_signature']]\n",
        "\n",
        "plt.figure(figsize=(12, 8))\n",
        "sns.heatmap(df_corr.corr(), annot=True, cmap='coolwarm')\n",
        "plt.title(\"Macierz korelacji\")\n",
        "plt.show()"
      ],
      "metadata": {
        "colab": {
          "base_uri": "https://localhost:8080/",
          "height": 805
        },
        "id": "-CDU3LlhRYDQ",
        "outputId": "8a295461-5d82-4958-f82e-69f40e658896"
      },
      "execution_count": 189,
      "outputs": [
        {
          "output_type": "display_data",
          "data": {
            "text/plain": [
              "<Figure size 1200x800 with 2 Axes>"
            ],
            "image/png": "[encoded data removed]"
          },
          "metadata": {}
        }
      ]
    },
    {
      "cell_type": "markdown",
      "source": [
        "Analiza macierzy korelacji:\n",
        "1. Silną korelację ujemną (-0.73) mają zmienne energy i acousticness. Zmienna energy jest miarą od 0.0 do 1.0 i reprezentuje percepcyjną miarę intensywności i aktywności utworu. Zmienna acousticness jest miarą zaufania od 0.0 do 1.0, która określa, czy utwór jest akustyczny. 1.0 oznacza wysokie zaufanie, że utwór jest akustyczny. Korelacja ta sugeruje, że utwory mające lepszą akustykę są zazwyczaj mniej energiczne.\n",
        "\n",
        "2. Wyraźną korelację ujemną (-0.59) mają zmienne acousticness i loudness. Zmienna loudness wyraża głośność utworu w decybelach. Korelacja ta sugeruje, że utwory cichsze mają z reguły lepszą akustykę.\n",
        "\n",
        "3. Silną korelację dodatnią (0.76) mają zmienne energy i loudness. Taka korelacja sugeruje, że utwory bardziej energiczne i intensywne są zazwyczaj głośniejsze.\n",
        "\n",
        "4. Umiarkowaną korelację dodatnią (0.47) mają zmienne danceability i valence. Zmienna danceability opisuje, jak odpowiedni jest utwór do tańca w oparciu o kombinację różnych elementów muzycznych. Wartość 0.0 oznacza najmniejszą taneczność, a 1.0 największą taneczność. Zmienna valence jest miarą od 0.0 do 1.0 opisującą muzyczną pozytywność przekazywaną przez utwór. Utwory o wysokim valence brzmią bardziej pozytywnie, podczas gdy utwory o niskim valence brzmią bardziej negatywnie. Korelacja ta sugeruje, że utwory bardziej pozytywne są zwykle lepsze do tańczenia."
      ],
      "metadata": {
        "id": "CKZleoF0VBNA"
      }
    },
    {
      "cell_type": "markdown",
      "source": [
        "Procent utworów z wulgaryzmami dla każdego gatunku"
      ],
      "metadata": {
        "id": "dgGGwLekvPHi"
      }
    },
    {
      "cell_type": "code",
      "source": [
        "explicit_percent = (\n",
        "    df.groupby('track_genre')['explicit']\n",
        "    .mean()\n",
        "    .mul(100)\n",
        "    .reset_index()\n",
        "    .rename(columns={'explicit': 'explicit_percentage'})\n",
        ")\n",
        "\n",
        "explicit_percent_sorted = explicit_percent.sort_values(by='explicit_percentage', ascending=False)\n",
        "\n",
        "for index, row in explicit_percent_sorted.iterrows():\n",
        "    print(f\"{row['track_genre']}: {row['explicit_percentage']:.2f}%\")"
      ],
      "metadata": {
        "colab": {
          "base_uri": "https://localhost:8080/"
        },
        "id": "4ROukO27cOpl",
        "outputId": "a2b5ae89-147c-4cf6-8278-80bf43ecd02d"
      },
      "execution_count": 190,
      "outputs": [
        {
          "output_type": "stream",
          "name": "stdout",
          "text": [
            "comedy: 65.57%\n",
            "emo: 46.59%\n",
            "sad: 45.13%\n",
            "j-dance: 39.07%\n",
            "hardcore: 32.56%\n",
            "hip-hop: 31.55%\n",
            "funk: 30.32%\n",
            "dancehall: 30.23%\n",
            "metalcore: 29.31%\n",
            "death-metal: 25.13%\n",
            "latino: 24.97%\n",
            "industrial: 23.49%\n",
            "french: 22.01%\n",
            "turkish: 21.89%\n",
            "reggaeton: 21.24%\n",
            "dance: 17.40%\n",
            "chill: 17.20%\n",
            "reggae: 16.75%\n",
            "alternative: 16.43%\n",
            "grindcore: 15.35%\n",
            "electro: 15.25%\n",
            "metal: 14.24%\n",
            "latin: 13.33%\n",
            "black-metal: 13.27%\n",
            "german: 12.82%\n",
            "happy: 12.55%\n",
            "electronic: 12.05%\n",
            "house: 10.70%\n",
            "punk: 10.62%\n",
            "edm: 10.61%\n",
            "indie-pop: 10.58%\n",
            "soul: 10.42%\n",
            "groove: 9.73%\n",
            "hardstyle: 9.63%\n",
            "swedish: 9.56%\n",
            "garage: 9.54%\n",
            "dubstep: 9.54%\n",
            "r-n-b: 8.69%\n",
            "club: 8.57%\n",
            "brazil: 8.44%\n",
            "heavy-metal: 8.32%\n",
            "indie: 8.29%\n",
            "iranian: 8.27%\n",
            "punk-rock: 8.02%\n",
            "pop: 7.49%\n",
            "dub: 7.41%\n",
            "grunge: 7.24%\n",
            "goth: 6.62%\n",
            "alt-rock: 5.61%\n",
            "anime: 5.44%\n",
            "acoustic: 5.25%\n",
            "progressive-house: 5.21%\n",
            "k-pop: 4.93%\n",
            "hard-rock: 4.91%\n",
            "breakbeat: 4.80%\n",
            "songwriter: 4.61%\n",
            "singer-songwriter: 4.61%\n",
            "trip-hop: 4.53%\n",
            "party: 4.52%\n",
            "synth-pop: 4.41%\n",
            "rock: 4.30%\n",
            "british: 3.94%\n",
            "spanish: 3.81%\n",
            "malay: 3.70%\n",
            "power-pop: 3.30%\n",
            "country: 3.00%\n",
            "drum-and-bass: 2.60%\n",
            "techno: 2.51%\n",
            "deep-house: 2.51%\n",
            "indian: 2.45%\n",
            "ska: 2.41%\n",
            "trance: 2.21%\n",
            "show-tunes: 1.84%\n",
            "forro: 1.80%\n",
            "chicago-house: 1.80%\n",
            "j-rock: 1.70%\n",
            "afrobeat: 1.61%\n",
            "psych-rock: 1.51%\n",
            "pagode: 1.50%\n",
            "blues: 1.41%\n",
            "idm: 1.33%\n",
            "piano: 1.22%\n",
            "j-pop: 1.21%\n",
            "kids: 0.81%\n",
            "mandopop: 0.80%\n",
            "detroit-techno: 0.70%\n",
            "folk: 0.62%\n",
            "sertanejo: 0.60%\n",
            "disco: 0.60%\n",
            "ambient: 0.52%\n",
            "new-age: 0.51%\n",
            "mpb: 0.50%\n",
            "bluegrass: 0.50%\n",
            "rockabilly: 0.50%\n",
            "romance: 0.41%\n",
            "minimal-techno: 0.40%\n",
            "jazz: 0.31%\n",
            "salsa: 0.30%\n",
            "guitar: 0.20%\n",
            "samba: 0.20%\n",
            "rock-n-roll: 0.20%\n",
            "cantopop: 0.20%\n",
            "opera: 0.10%\n",
            "disney: 0.10%\n",
            "pop-film: 0.10%\n",
            "j-idol: 0.10%\n",
            "tango: 0.00%\n",
            "study: 0.00%\n",
            "honky-tonk: 0.00%\n",
            "classical: 0.00%\n",
            "children: 0.00%\n",
            "gospel: 0.00%\n",
            "sleep: 0.00%\n",
            "world-music: 0.00%\n"
          ]
        }
      ]
    },
    {
      "cell_type": "markdown",
      "source": [
        "Największy procent piosenek (65,57 %) z wulgaryzmami ma gatunek comedy. Na drugim miejscu jest gatunek emo (46,59 %), a na trzecim gatunek sad (45,13 %).\n",
        "\n",
        "Spory procent piosenek z wulgaryzmami mają też takie gatunki, jak hip-hop, hardcore (gatunek wyrażający intensywne emocje w brzmieniu i tekstach) , czy j-dance (gatunek związany z japońską muzyką).\n",
        "\n",
        "Można też zauważyć, że w zbiorze tym jest kilka piosenek z Disneya, które zawierają wulgaryzmy."
      ],
      "metadata": {
        "id": "SLyjXRgUeWSD"
      }
    },
    {
      "cell_type": "markdown",
      "source": [
        "**Usuwanie punktów odstających**"
      ],
      "metadata": {
        "id": "dtPjgvXDlBeo"
      }
    },
    {
      "cell_type": "code",
      "source": [
        "# Funkcja do usuwania punktów odstających dla grupy\n",
        "def remove_outliers(group, feature):\n",
        "    Q1 = group[feature].quantile(0.25)  # 25 percentyl\n",
        "    Q3 = group[feature].quantile(0.75)  # 75 percentyl\n",
        "    IQR = Q3 - Q1                       # Przedział międzykwartylowy (IQR)\n",
        "    lower_bound = Q1 - 1.5 * IQR        # Dolna granica\n",
        "    upper_bound = Q3 + 1.5 * IQR        # Górna granica\n",
        "\n",
        "    return group[(group[feature] >= lower_bound) & (group[feature] <= upper_bound)]\n",
        "\n",
        "features_to_check = ['popularity', 'duration_ms', 'danceability', 'energy', 'loudness', 'speechiness', 'acousticness', 'instrumentalness', 'liveness', 'valence', 'tempo']\n",
        "\n",
        "for feature in features_to_check:\n",
        "    df = df.groupby('track_genre', group_keys=False).apply(lambda g: remove_outliers(g, feature))"
      ],
      "metadata": {
        "colab": {
          "base_uri": "https://localhost:8080/"
        },
        "id": "JuEewjCMgeLy",
        "outputId": "dcb0af99-289a-4c6e-ebe2-19a5ffe32fba"
      },
      "execution_count": 192,
      "outputs": [
        {
          "output_type": "stream",
          "name": "stderr",
          "text": [
            "<ipython-input-192-bc1176f8d15e>:14: DeprecationWarning: DataFrameGroupBy.apply operated on the grouping columns. This behavior is deprecated, and in a future version of pandas the grouping columns will be excluded from the operation. Either pass `include_groups=False` to exclude the groupings or explicitly select the grouping columns after groupby to silence this warning.\n",
            "  df = df.groupby('track_genre', group_keys=False).apply(lambda g: remove_outliers(g, feature))\n",
            "<ipython-input-192-bc1176f8d15e>:14: DeprecationWarning: DataFrameGroupBy.apply operated on the grouping columns. This behavior is deprecated, and in a future version of pandas the grouping columns will be excluded from the operation. Either pass `include_groups=False` to exclude the groupings or explicitly select the grouping columns after groupby to silence this warning.\n",
            "  df = df.groupby('track_genre', group_keys=False).apply(lambda g: remove_outliers(g, feature))\n",
            "<ipython-input-192-bc1176f8d15e>:14: DeprecationWarning: DataFrameGroupBy.apply operated on the grouping columns. This behavior is deprecated, and in a future version of pandas the grouping columns will be excluded from the operation. Either pass `include_groups=False` to exclude the groupings or explicitly select the grouping columns after groupby to silence this warning.\n",
            "  df = df.groupby('track_genre', group_keys=False).apply(lambda g: remove_outliers(g, feature))\n",
            "<ipython-input-192-bc1176f8d15e>:14: DeprecationWarning: DataFrameGroupBy.apply operated on the grouping columns. This behavior is deprecated, and in a future version of pandas the grouping columns will be excluded from the operation. Either pass `include_groups=False` to exclude the groupings or explicitly select the grouping columns after groupby to silence this warning.\n",
            "  df = df.groupby('track_genre', group_keys=False).apply(lambda g: remove_outliers(g, feature))\n",
            "<ipython-input-192-bc1176f8d15e>:14: DeprecationWarning: DataFrameGroupBy.apply operated on the grouping columns. This behavior is deprecated, and in a future version of pandas the grouping columns will be excluded from the operation. Either pass `include_groups=False` to exclude the groupings or explicitly select the grouping columns after groupby to silence this warning.\n",
            "  df = df.groupby('track_genre', group_keys=False).apply(lambda g: remove_outliers(g, feature))\n",
            "<ipython-input-192-bc1176f8d15e>:14: DeprecationWarning: DataFrameGroupBy.apply operated on the grouping columns. This behavior is deprecated, and in a future version of pandas the grouping columns will be excluded from the operation. Either pass `include_groups=False` to exclude the groupings or explicitly select the grouping columns after groupby to silence this warning.\n",
            "  df = df.groupby('track_genre', group_keys=False).apply(lambda g: remove_outliers(g, feature))\n",
            "<ipython-input-192-bc1176f8d15e>:14: DeprecationWarning: DataFrameGroupBy.apply operated on the grouping columns. This behavior is deprecated, and in a future version of pandas the grouping columns will be excluded from the operation. Either pass `include_groups=False` to exclude the groupings or explicitly select the grouping columns after groupby to silence this warning.\n",
            "  df = df.groupby('track_genre', group_keys=False).apply(lambda g: remove_outliers(g, feature))\n",
            "<ipython-input-192-bc1176f8d15e>:14: DeprecationWarning: DataFrameGroupBy.apply operated on the grouping columns. This behavior is deprecated, and in a future version of pandas the grouping columns will be excluded from the operation. Either pass `include_groups=False` to exclude the groupings or explicitly select the grouping columns after groupby to silence this warning.\n",
            "  df = df.groupby('track_genre', group_keys=False).apply(lambda g: remove_outliers(g, feature))\n",
            "<ipython-input-192-bc1176f8d15e>:14: DeprecationWarning: DataFrameGroupBy.apply operated on the grouping columns. This behavior is deprecated, and in a future version of pandas the grouping columns will be excluded from the operation. Either pass `include_groups=False` to exclude the groupings or explicitly select the grouping columns after groupby to silence this warning.\n",
            "  df = df.groupby('track_genre', group_keys=False).apply(lambda g: remove_outliers(g, feature))\n",
            "<ipython-input-192-bc1176f8d15e>:14: DeprecationWarning: DataFrameGroupBy.apply operated on the grouping columns. This behavior is deprecated, and in a future version of pandas the grouping columns will be excluded from the operation. Either pass `include_groups=False` to exclude the groupings or explicitly select the grouping columns after groupby to silence this warning.\n",
            "  df = df.groupby('track_genre', group_keys=False).apply(lambda g: remove_outliers(g, feature))\n",
            "<ipython-input-192-bc1176f8d15e>:14: DeprecationWarning: DataFrameGroupBy.apply operated on the grouping columns. This behavior is deprecated, and in a future version of pandas the grouping columns will be excluded from the operation. Either pass `include_groups=False` to exclude the groupings or explicitly select the grouping columns after groupby to silence this warning.\n",
            "  df = df.groupby('track_genre', group_keys=False).apply(lambda g: remove_outliers(g, feature))\n"
          ]
        }
      ]
    },
    {
      "cell_type": "markdown",
      "source": [
        "**Dodanie kolumny klasyfikującej długość utworu w kontekście gatunku**"
      ],
      "metadata": {
        "id": "93zLbAkql6Fq"
      }
    },
    {
      "cell_type": "code",
      "source": [
        "stats = df.groupby('track_genre')['duration_ms'].agg(['median', 'quantile'])\n",
        "stats['Q1'] = df.groupby('track_genre')['duration_ms'].quantile(0.25)\n",
        "stats['Q3'] = df.groupby('track_genre')['duration_ms'].quantile(0.75)\n",
        "\n",
        "def categorize_duration_by_genre(row, stats):\n",
        "    genre = row['track_genre']\n",
        "    duration = row['duration_ms']\n",
        "\n",
        "    Q1 = stats.loc[genre, 'Q1']\n",
        "    Q3 = stats.loc[genre, 'Q3']\n",
        "\n",
        "    #0 - krótki utwór, 1 - średni utwór, 2 - długi utwór\n",
        "    if duration < Q1:\n",
        "        return 0\n",
        "    elif Q1 <= duration <= Q3:\n",
        "        return 1\n",
        "    else:\n",
        "        return 2\n",
        "\n",
        "df['duration_category'] = df.apply(categorize_duration_by_genre, axis=1, args=(stats,))"
      ],
      "metadata": {
        "id": "PgvgIixjmDzp"
      },
      "execution_count": 193,
      "outputs": []
    },
    {
      "cell_type": "markdown",
      "source": [
        "**Standaryzacja**"
      ],
      "metadata": {
        "id": "LoMWViJ-yvAF"
      }
    },
    {
      "cell_type": "code",
      "source": [
        "from sklearn.preprocessing import StandardScaler\n",
        "\n",
        "scaler = StandardScaler()\n",
        "df[['duration_ms', 'loudness', 'tempo']] = scaler.fit_transform(df[['duration_ms', 'loudness', 'tempo']])"
      ],
      "metadata": {
        "id": "8P4XmFvOyw5y"
      },
      "execution_count": 194,
      "outputs": []
    },
    {
      "cell_type": "markdown",
      "source": [
        "**Dodanie cech interakcji**"
      ],
      "metadata": {
        "id": "ZheW6A-u0OSa"
      }
    },
    {
      "cell_type": "code",
      "source": [
        "df['danceability_energy'] = df['danceability'] * df['energy']\n",
        "df['danceability_valence'] = df['danceability'] * df['valence']\n",
        "df['tempo_energy'] = df['tempo'] * df['energy']"
      ],
      "metadata": {
        "id": "UNQwXGv90DLk"
      },
      "execution_count": 195,
      "outputs": []
    },
    {
      "cell_type": "markdown",
      "source": [
        "**Zakodowanie kolumny explicit**"
      ],
      "metadata": {
        "id": "9N__FDCl1Hv1"
      }
    },
    {
      "cell_type": "code",
      "source": [
        "df['explicit'] = df['explicit'].astype(int)"
      ],
      "metadata": {
        "id": "reHNDHge1Gf4"
      },
      "execution_count": 196,
      "outputs": []
    }
  ]
}